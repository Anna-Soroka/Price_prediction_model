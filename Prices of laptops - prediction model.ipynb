{
 "cells": [
  {
   "cell_type": "markdown",
   "metadata": {},
   "source": [
    "# Prices of laptops\n",
    "\n",
    "Price predictions of laptops based on their attributes, based on marketplace data."
   ]
  },
  {
   "cell_type": "markdown",
   "metadata": {},
   "source": [
    "### Table of Contents\n",
    "\n",
    "* [1. Read input data](#chapter1)\n",
    "* [2. Understand data structure](#chapter2)\n",
    "* [3. Preprocess data with functions](#chapter3)\n",
    "* [4. Train model](#chapter4)\n",
    "* [5. Apply selected model on hidden data](#chapter5)\n"
   ]
  },
  {
   "cell_type": "markdown",
   "metadata": {},
   "source": [
    "# 1. Read input data <a class=\"anchor\" id=\"chapter1\"></a>"
   ]
  },
  {
   "cell_type": "code",
   "execution_count": 144,
   "metadata": {},
   "outputs": [
    {
     "data": {
      "text/plain": [
       "WindowsPath('C:/Users/AiP')"
      ]
     },
     "execution_count": 144,
     "metadata": {},
     "output_type": "execute_result"
    }
   ],
   "source": [
    "from pathlib import Path\n",
    "import os\n",
    "Path.cwd()"
   ]
  },
  {
   "cell_type": "code",
   "execution_count": 145,
   "metadata": {},
   "outputs": [
    {
     "data": {
      "text/plain": [
       "Index(['buynow_price', 'rodzaj karty graficznej', 'komunikacja',\n",
       "       'rozdzielczość (piksele)', 'liczba rdzeni procesora',\n",
       "       'wielkość pamięci ram', 'system operacyjny', 'typ dysku twardego',\n",
       "       'sterowanie', 'multimedia', 'typ pamięci ram',\n",
       "       'taktowanie bazowe procesora (ghz)', 'seria procesora', 'stan',\n",
       "       'pojemność dysku (gb)', 'gwarancja', 'wielkość matrycy '],\n",
       "      dtype='object')"
      ]
     },
     "execution_count": 145,
     "metadata": {},
     "output_type": "execute_result"
    }
   ],
   "source": [
    "import pandas as pd\n",
    "dataset = pd.read_json(\"MyPythonScripts\\\\Project_1\\\\public-dataset.json\")\n",
    "dataset.columns\n"
   ]
  },
  {
   "cell_type": "code",
   "execution_count": 146,
   "metadata": {},
   "outputs": [
    {
     "data": {
      "text/html": [
       "<div>\n",
       "<style scoped>\n",
       "    .dataframe tbody tr th:only-of-type {\n",
       "        vertical-align: middle;\n",
       "    }\n",
       "\n",
       "    .dataframe tbody tr th {\n",
       "        vertical-align: top;\n",
       "    }\n",
       "\n",
       "    .dataframe thead th {\n",
       "        text-align: right;\n",
       "    }\n",
       "</style>\n",
       "<table border=\"1\" class=\"dataframe\">\n",
       "  <thead>\n",
       "    <tr style=\"text-align: right;\">\n",
       "      <th></th>\n",
       "      <th>buynow_price</th>\n",
       "      <th>rodzaj karty graficznej</th>\n",
       "      <th>komunikacja</th>\n",
       "      <th>rozdzielczość (piksele)</th>\n",
       "      <th>liczba rdzeni procesora</th>\n",
       "      <th>wielkość pamięci ram</th>\n",
       "      <th>system operacyjny</th>\n",
       "      <th>typ dysku twardego</th>\n",
       "      <th>sterowanie</th>\n",
       "      <th>multimedia</th>\n",
       "      <th>typ pamięci ram</th>\n",
       "      <th>taktowanie bazowe procesora (ghz)</th>\n",
       "      <th>seria procesora</th>\n",
       "      <th>stan</th>\n",
       "      <th>pojemność dysku (gb)</th>\n",
       "      <th>gwarancja</th>\n",
       "      <th>wielkość matrycy</th>\n",
       "    </tr>\n",
       "  </thead>\n",
       "  <tbody>\n",
       "    <tr>\n",
       "      <th>70</th>\n",
       "      <td>1599.0</td>\n",
       "      <td>grafika zintegrowana</td>\n",
       "      <td>[wi-fi, bluetooth, lan 10/100/1000 mbps]</td>\n",
       "      <td>1366 x 768</td>\n",
       "      <td>2</td>\n",
       "      <td>8 gb</td>\n",
       "      <td>[windows 10 home]</td>\n",
       "      <td>hdd</td>\n",
       "      <td>[klawiatura, touchpad]</td>\n",
       "      <td>[czytnik kart pamięci, kamera, głośniki, mikro...</td>\n",
       "      <td>ddr3</td>\n",
       "      <td>1.9</td>\n",
       "      <td>intel core i3</td>\n",
       "      <td>nowy</td>\n",
       "      <td>500.0</td>\n",
       "      <td>sprzedawcy</td>\n",
       "      <td>13\" - 13.9\"</td>\n",
       "    </tr>\n",
       "    <tr>\n",
       "      <th>1489</th>\n",
       "      <td>2999.0</td>\n",
       "      <td>grafika dedykowana</td>\n",
       "      <td>[nfc (near field communication), gps]</td>\n",
       "      <td>1920 x 1080</td>\n",
       "      <td>2</td>\n",
       "      <td>12 gb</td>\n",
       "      <td>[windows 10 home]</td>\n",
       "      <td>None</td>\n",
       "      <td>[touchpad]</td>\n",
       "      <td>[czytnik kart pamięci, kamera, głośniki, mikro...</td>\n",
       "      <td>ddr4</td>\n",
       "      <td>2.0</td>\n",
       "      <td>intel core i3</td>\n",
       "      <td>nowy</td>\n",
       "      <td>480.0</td>\n",
       "      <td>producenta</td>\n",
       "      <td>15\" - 15.9\"</td>\n",
       "    </tr>\n",
       "    <tr>\n",
       "      <th>407</th>\n",
       "      <td>2999.0</td>\n",
       "      <td>grafika zintegrowana</td>\n",
       "      <td>[wi-fi, bluetooth, lan 10/100/1000 mbps]</td>\n",
       "      <td>1366 x 768</td>\n",
       "      <td>2</td>\n",
       "      <td>16 gb</td>\n",
       "      <td>[windows 7 professional 64-bit]</td>\n",
       "      <td>ssd</td>\n",
       "      <td>[klawiatura, touchpad, klawiatura numeryczna]</td>\n",
       "      <td>[czytnik kart pamięci, kamera, głośniki, mikro...</td>\n",
       "      <td>ddr3l</td>\n",
       "      <td>2.1</td>\n",
       "      <td>intel pentium dual-core</td>\n",
       "      <td>nowy</td>\n",
       "      <td>480.0</td>\n",
       "      <td>producenta</td>\n",
       "      <td>15\" - 15.9\"</td>\n",
       "    </tr>\n",
       "    <tr>\n",
       "      <th>1359</th>\n",
       "      <td>2849.0</td>\n",
       "      <td>grafika zintegrowana</td>\n",
       "      <td>[wi-fi, bluetooth, lan 10/100/1000 mbps]</td>\n",
       "      <td>1920 x 1080</td>\n",
       "      <td>2</td>\n",
       "      <td>8 gb</td>\n",
       "      <td>[windows 10 professional]</td>\n",
       "      <td>ssd</td>\n",
       "      <td>[klawiatura, touchpad, klawiatura numeryczna]</td>\n",
       "      <td>[czytnik kart pamięci, kamera, głośniki, mikro...</td>\n",
       "      <td>ddr4</td>\n",
       "      <td>2.0</td>\n",
       "      <td>intel core i3</td>\n",
       "      <td>nowy</td>\n",
       "      <td>480.0</td>\n",
       "      <td>producenta</td>\n",
       "      <td>15\" - 15.9\"</td>\n",
       "    </tr>\n",
       "    <tr>\n",
       "      <th>10567</th>\n",
       "      <td>2319.0</td>\n",
       "      <td>None</td>\n",
       "      <td>None</td>\n",
       "      <td>None</td>\n",
       "      <td>2</td>\n",
       "      <td>None</td>\n",
       "      <td>None</td>\n",
       "      <td>None</td>\n",
       "      <td>None</td>\n",
       "      <td>None</td>\n",
       "      <td>None</td>\n",
       "      <td>NaN</td>\n",
       "      <td>None</td>\n",
       "      <td>nowy</td>\n",
       "      <td>NaN</td>\n",
       "      <td>producenta</td>\n",
       "      <td>None</td>\n",
       "    </tr>\n",
       "    <tr>\n",
       "      <th>...</th>\n",
       "      <td>...</td>\n",
       "      <td>...</td>\n",
       "      <td>...</td>\n",
       "      <td>...</td>\n",
       "      <td>...</td>\n",
       "      <td>...</td>\n",
       "      <td>...</td>\n",
       "      <td>...</td>\n",
       "      <td>...</td>\n",
       "      <td>...</td>\n",
       "      <td>...</td>\n",
       "      <td>...</td>\n",
       "      <td>...</td>\n",
       "      <td>...</td>\n",
       "      <td>...</td>\n",
       "      <td>...</td>\n",
       "      <td>...</td>\n",
       "    </tr>\n",
       "    <tr>\n",
       "      <th>10541</th>\n",
       "      <td>1329.0</td>\n",
       "      <td>grafika zintegrowana</td>\n",
       "      <td>[wi-fi, bluetooth, lan 10/100/1000 mbps]</td>\n",
       "      <td>1366 x 768</td>\n",
       "      <td>2</td>\n",
       "      <td>4 gb</td>\n",
       "      <td>[windows 10 home]</td>\n",
       "      <td>ssd</td>\n",
       "      <td>[klawiatura, touchpad, klawiatura numeryczna]</td>\n",
       "      <td>[czytnik kart pamięci, kamera, głośniki, mikro...</td>\n",
       "      <td>ddr3</td>\n",
       "      <td>1.6</td>\n",
       "      <td>intel celeron dual-core</td>\n",
       "      <td>nowy</td>\n",
       "      <td>128.0</td>\n",
       "      <td>sprzedawcy</td>\n",
       "      <td>15\" - 15.9\"</td>\n",
       "    </tr>\n",
       "    <tr>\n",
       "      <th>8281</th>\n",
       "      <td>979.0</td>\n",
       "      <td>None</td>\n",
       "      <td>None</td>\n",
       "      <td>None</td>\n",
       "      <td>2</td>\n",
       "      <td>None</td>\n",
       "      <td>None</td>\n",
       "      <td>None</td>\n",
       "      <td>None</td>\n",
       "      <td>None</td>\n",
       "      <td>None</td>\n",
       "      <td>NaN</td>\n",
       "      <td>None</td>\n",
       "      <td>nowy</td>\n",
       "      <td>32.0</td>\n",
       "      <td>producenta</td>\n",
       "      <td>None</td>\n",
       "    </tr>\n",
       "    <tr>\n",
       "      <th>8053</th>\n",
       "      <td>2565.0</td>\n",
       "      <td>grafika dedykowana</td>\n",
       "      <td>[wi-fi, bluetooth, lan 10/100/1000 mbps]</td>\n",
       "      <td>1920 x 1080</td>\n",
       "      <td>2</td>\n",
       "      <td>4 gb</td>\n",
       "      <td>[windows 10 home]</td>\n",
       "      <td>ssd</td>\n",
       "      <td>[klawiatura, touchpad, klawiatura numeryczna]</td>\n",
       "      <td>[czytnik kart pamięci, kamera, głośniki, mikro...</td>\n",
       "      <td>ddr4</td>\n",
       "      <td>2.3</td>\n",
       "      <td>intel core i5</td>\n",
       "      <td>nowy</td>\n",
       "      <td>128.0</td>\n",
       "      <td>sprzedawcy</td>\n",
       "      <td>15\" - 15.9\"</td>\n",
       "    </tr>\n",
       "    <tr>\n",
       "      <th>8727</th>\n",
       "      <td>4079.0</td>\n",
       "      <td>grafika dedykowana</td>\n",
       "      <td>[bluetooth, lan 10/100/1000 mbps, lan 10/100 m...</td>\n",
       "      <td>1920 x 1080</td>\n",
       "      <td>4</td>\n",
       "      <td>16 gb</td>\n",
       "      <td>[windows 10 home]</td>\n",
       "      <td>ssd + hdd</td>\n",
       "      <td>[klawiatura, touchpad, klawiatura podświetlana]</td>\n",
       "      <td>[czytnik kart pamięci, kamera, głośniki, mikro...</td>\n",
       "      <td>ddr4</td>\n",
       "      <td>2.5</td>\n",
       "      <td>intel core i5</td>\n",
       "      <td>nowy</td>\n",
       "      <td>1128.0</td>\n",
       "      <td>producenta</td>\n",
       "      <td>15\" - 15.9\"</td>\n",
       "    </tr>\n",
       "    <tr>\n",
       "      <th>5978</th>\n",
       "      <td>2949.0</td>\n",
       "      <td>grafika dedykowana</td>\n",
       "      <td>[bluetooth, lan 10/100/1000 mbps, lan 10/100 m...</td>\n",
       "      <td>1920 x 1080</td>\n",
       "      <td>2</td>\n",
       "      <td>8 gb</td>\n",
       "      <td>[windows 10 professional]</td>\n",
       "      <td>ssd</td>\n",
       "      <td>[klawiatura, touchpad]</td>\n",
       "      <td>[czytnik kart pamięci, kamera, mikrofon]</td>\n",
       "      <td>ddr4</td>\n",
       "      <td>2.4</td>\n",
       "      <td>intel core i3</td>\n",
       "      <td>nowy</td>\n",
       "      <td>128.0</td>\n",
       "      <td>producenta</td>\n",
       "      <td>15\" - 15.9\"</td>\n",
       "    </tr>\n",
       "  </tbody>\n",
       "</table>\n",
       "<p>7853 rows × 17 columns</p>\n",
       "</div>"
      ],
      "text/plain": [
       "       buynow_price rodzaj karty graficznej  \\\n",
       "70           1599.0    grafika zintegrowana   \n",
       "1489         2999.0      grafika dedykowana   \n",
       "407          2999.0    grafika zintegrowana   \n",
       "1359         2849.0    grafika zintegrowana   \n",
       "10567        2319.0                    None   \n",
       "...             ...                     ...   \n",
       "10541        1329.0    grafika zintegrowana   \n",
       "8281          979.0                    None   \n",
       "8053         2565.0      grafika dedykowana   \n",
       "8727         4079.0      grafika dedykowana   \n",
       "5978         2949.0      grafika dedykowana   \n",
       "\n",
       "                                             komunikacja  \\\n",
       "70              [wi-fi, bluetooth, lan 10/100/1000 mbps]   \n",
       "1489               [nfc (near field communication), gps]   \n",
       "407             [wi-fi, bluetooth, lan 10/100/1000 mbps]   \n",
       "1359            [wi-fi, bluetooth, lan 10/100/1000 mbps]   \n",
       "10567                                               None   \n",
       "...                                                  ...   \n",
       "10541           [wi-fi, bluetooth, lan 10/100/1000 mbps]   \n",
       "8281                                                None   \n",
       "8053            [wi-fi, bluetooth, lan 10/100/1000 mbps]   \n",
       "8727   [bluetooth, lan 10/100/1000 mbps, lan 10/100 m...   \n",
       "5978   [bluetooth, lan 10/100/1000 mbps, lan 10/100 m...   \n",
       "\n",
       "      rozdzielczość (piksele) liczba rdzeni procesora wielkość pamięci ram  \\\n",
       "70                 1366 x 768                       2                 8 gb   \n",
       "1489              1920 x 1080                       2                12 gb   \n",
       "407                1366 x 768                       2                16 gb   \n",
       "1359              1920 x 1080                       2                 8 gb   \n",
       "10567                    None                       2                 None   \n",
       "...                       ...                     ...                  ...   \n",
       "10541              1366 x 768                       2                 4 gb   \n",
       "8281                     None                       2                 None   \n",
       "8053              1920 x 1080                       2                 4 gb   \n",
       "8727              1920 x 1080                       4                16 gb   \n",
       "5978              1920 x 1080                       2                 8 gb   \n",
       "\n",
       "                     system operacyjny typ dysku twardego  \\\n",
       "70                   [windows 10 home]                hdd   \n",
       "1489                 [windows 10 home]               None   \n",
       "407    [windows 7 professional 64-bit]                ssd   \n",
       "1359         [windows 10 professional]                ssd   \n",
       "10567                             None               None   \n",
       "...                                ...                ...   \n",
       "10541                [windows 10 home]                ssd   \n",
       "8281                              None               None   \n",
       "8053                 [windows 10 home]                ssd   \n",
       "8727                 [windows 10 home]          ssd + hdd   \n",
       "5978         [windows 10 professional]                ssd   \n",
       "\n",
       "                                            sterowanie  \\\n",
       "70                              [klawiatura, touchpad]   \n",
       "1489                                        [touchpad]   \n",
       "407      [klawiatura, touchpad, klawiatura numeryczna]   \n",
       "1359     [klawiatura, touchpad, klawiatura numeryczna]   \n",
       "10567                                             None   \n",
       "...                                                ...   \n",
       "10541    [klawiatura, touchpad, klawiatura numeryczna]   \n",
       "8281                                              None   \n",
       "8053     [klawiatura, touchpad, klawiatura numeryczna]   \n",
       "8727   [klawiatura, touchpad, klawiatura podświetlana]   \n",
       "5978                            [klawiatura, touchpad]   \n",
       "\n",
       "                                              multimedia typ pamięci ram  \\\n",
       "70     [czytnik kart pamięci, kamera, głośniki, mikro...            ddr3   \n",
       "1489   [czytnik kart pamięci, kamera, głośniki, mikro...            ddr4   \n",
       "407    [czytnik kart pamięci, kamera, głośniki, mikro...           ddr3l   \n",
       "1359   [czytnik kart pamięci, kamera, głośniki, mikro...            ddr4   \n",
       "10567                                               None            None   \n",
       "...                                                  ...             ...   \n",
       "10541  [czytnik kart pamięci, kamera, głośniki, mikro...            ddr3   \n",
       "8281                                                None            None   \n",
       "8053   [czytnik kart pamięci, kamera, głośniki, mikro...            ddr4   \n",
       "8727   [czytnik kart pamięci, kamera, głośniki, mikro...            ddr4   \n",
       "5978            [czytnik kart pamięci, kamera, mikrofon]            ddr4   \n",
       "\n",
       "       taktowanie bazowe procesora (ghz)          seria procesora  stan  \\\n",
       "70                                   1.9            intel core i3  nowy   \n",
       "1489                                 2.0            intel core i3  nowy   \n",
       "407                                  2.1  intel pentium dual-core  nowy   \n",
       "1359                                 2.0            intel core i3  nowy   \n",
       "10567                                NaN                     None  nowy   \n",
       "...                                  ...                      ...   ...   \n",
       "10541                                1.6  intel celeron dual-core  nowy   \n",
       "8281                                 NaN                     None  nowy   \n",
       "8053                                 2.3            intel core i5  nowy   \n",
       "8727                                 2.5            intel core i5  nowy   \n",
       "5978                                 2.4            intel core i3  nowy   \n",
       "\n",
       "       pojemność dysku (gb)   gwarancja wielkość matrycy   \n",
       "70                    500.0  sprzedawcy       13\" - 13.9\"  \n",
       "1489                  480.0  producenta       15\" - 15.9\"  \n",
       "407                   480.0  producenta       15\" - 15.9\"  \n",
       "1359                  480.0  producenta       15\" - 15.9\"  \n",
       "10567                   NaN  producenta              None  \n",
       "...                     ...         ...               ...  \n",
       "10541                 128.0  sprzedawcy       15\" - 15.9\"  \n",
       "8281                   32.0  producenta              None  \n",
       "8053                  128.0  sprzedawcy       15\" - 15.9\"  \n",
       "8727                 1128.0  producenta       15\" - 15.9\"  \n",
       "5978                  128.0  producenta       15\" - 15.9\"  \n",
       "\n",
       "[7853 rows x 17 columns]"
      ]
     },
     "metadata": {},
     "output_type": "display_data"
    }
   ],
   "source": [
    "display(dataset)"
   ]
  },
  {
   "cell_type": "code",
   "execution_count": 147,
   "metadata": {},
   "outputs": [
    {
     "data": {
      "text/html": [
       "<div>\n",
       "<style scoped>\n",
       "    .dataframe tbody tr th:only-of-type {\n",
       "        vertical-align: middle;\n",
       "    }\n",
       "\n",
       "    .dataframe tbody tr th {\n",
       "        vertical-align: top;\n",
       "    }\n",
       "\n",
       "    .dataframe thead th {\n",
       "        text-align: right;\n",
       "    }\n",
       "</style>\n",
       "<table border=\"1\" class=\"dataframe\">\n",
       "  <thead>\n",
       "    <tr style=\"text-align: right;\">\n",
       "      <th></th>\n",
       "      <th>count</th>\n",
       "      <th>mean</th>\n",
       "      <th>std</th>\n",
       "      <th>min</th>\n",
       "      <th>25%</th>\n",
       "      <th>50%</th>\n",
       "      <th>75%</th>\n",
       "      <th>max</th>\n",
       "    </tr>\n",
       "  </thead>\n",
       "  <tbody>\n",
       "    <tr>\n",
       "      <th>buynow_price</th>\n",
       "      <td>7853.0</td>\n",
       "      <td>3475.527050</td>\n",
       "      <td>1730.904165</td>\n",
       "      <td>429.0</td>\n",
       "      <td>2199.0</td>\n",
       "      <td>3149.0</td>\n",
       "      <td>4399.0</td>\n",
       "      <td>15472.65</td>\n",
       "    </tr>\n",
       "    <tr>\n",
       "      <th>taktowanie bazowe procesora (ghz)</th>\n",
       "      <td>6917.0</td>\n",
       "      <td>2.337430</td>\n",
       "      <td>0.391090</td>\n",
       "      <td>0.0</td>\n",
       "      <td>2.0</td>\n",
       "      <td>2.5</td>\n",
       "      <td>2.6</td>\n",
       "      <td>3.90</td>\n",
       "    </tr>\n",
       "    <tr>\n",
       "      <th>pojemność dysku (gb)</th>\n",
       "      <td>7372.0</td>\n",
       "      <td>653.239826</td>\n",
       "      <td>477.616013</td>\n",
       "      <td>0.0</td>\n",
       "      <td>256.0</td>\n",
       "      <td>500.0</td>\n",
       "      <td>1000.0</td>\n",
       "      <td>10000.00</td>\n",
       "    </tr>\n",
       "  </tbody>\n",
       "</table>\n",
       "</div>"
      ],
      "text/plain": [
       "                                    count         mean          std    min  \\\n",
       "buynow_price                       7853.0  3475.527050  1730.904165  429.0   \n",
       "taktowanie bazowe procesora (ghz)  6917.0     2.337430     0.391090    0.0   \n",
       "pojemność dysku (gb)               7372.0   653.239826   477.616013    0.0   \n",
       "\n",
       "                                      25%     50%     75%       max  \n",
       "buynow_price                       2199.0  3149.0  4399.0  15472.65  \n",
       "taktowanie bazowe procesora (ghz)     2.0     2.5     2.6      3.90  \n",
       "pojemność dysku (gb)                256.0   500.0  1000.0  10000.00  "
      ]
     },
     "execution_count": 147,
     "metadata": {},
     "output_type": "execute_result"
    }
   ],
   "source": [
    "dataset.describe().transpose()"
   ]
  },
  {
   "cell_type": "code",
   "execution_count": 148,
   "metadata": {
    "scrolled": true
   },
   "outputs": [
    {
     "data": {
      "text/plain": [
       "Index(['buynow_price', 'rodzaj karty graficznej', 'komunikacja',\n",
       "       'rozdzielczość (piksele)', 'liczba rdzeni procesora',\n",
       "       'wielkość pamięci ram', 'system operacyjny', 'typ dysku twardego',\n",
       "       'sterowanie', 'multimedia', 'typ pamięci ram',\n",
       "       'taktowanie bazowe procesora (ghz)', 'seria procesora', 'stan',\n",
       "       'pojemność dysku (gb)', 'gwarancja', 'wielkość matrycy '],\n",
       "      dtype='object')"
      ]
     },
     "execution_count": 148,
     "metadata": {},
     "output_type": "execute_result"
    }
   ],
   "source": [
    "dataset.columns"
   ]
  },
  {
   "cell_type": "markdown",
   "metadata": {},
   "source": [
    "# 2. Understand data structure <a class=\"anchor\" id=\"chapter2\"></a>\n"
   ]
  },
  {
   "cell_type": "markdown",
   "metadata": {},
   "source": [
    "### 2.0 Rename columns"
   ]
  },
  {
   "cell_type": "code",
   "execution_count": 149,
   "metadata": {
    "scrolled": true
   },
   "outputs": [
    {
     "data": {
      "text/plain": [
       "Index(['buynow_price', 'rodzaj_karty_graficznej', 'komunikacja',\n",
       "       'rozdzielczosc', 'liczba_rdzeni', 'wielkosc_ram', 'system_operacyjny',\n",
       "       'typ_dysku', 'sterowanie', 'multimedia', 'typ_ram', 'taktowanie_ghz',\n",
       "       'seria_procesora', 'stan', 'pojemnosc_dysku_gb', 'gwarancja',\n",
       "       'wielkosc_matrycy'],\n",
       "      dtype='object')"
      ]
     },
     "execution_count": 149,
     "metadata": {},
     "output_type": "execute_result"
    }
   ],
   "source": [
    "dataset_col_ren = dataset.rename(columns={\"rodzaj karty graficznej\": \"rodzaj_karty_graficznej\", \n",
    "                                          \"rozdzielczość (piksele)\": \"rozdzielczosc\", \n",
    "                                          \"liczba rdzeni procesora\":\"liczba_rdzeni\", \n",
    "                                          \"wielkość pamięci ram\":\"wielkosc_ram\", \n",
    "                                          \"system operacyjny\":\"system_operacyjny\", \n",
    "                                          \"typ dysku twardego\":\"typ_dysku\", \n",
    "                                          \"typ pamięci ram\":\"typ_ram\", \n",
    "                                          \"taktowanie bazowe procesora (ghz)\":\"taktowanie_ghz\", \n",
    "                                          \"seria procesora\":\"seria_procesora\", \n",
    "                                          \"pojemność dysku (gb)\":\"pojemnosc_dysku_gb\", \n",
    "                                          \"wielkość matrycy \":\"wielkosc_matrycy\"\n",
    "                                         })\n",
    "dataset_col_ren.columns"
   ]
  },
  {
   "cell_type": "markdown",
   "metadata": {},
   "source": [
    "## 2.1 Drop nulls and irrelevant columns\n",
    "1. Remove rows \"nie dotyczy\" from liczba_rdzeni, as those records contains almost no information \n",
    "2. Remove column \"stan\", as only \"nowy\" available"
   ]
  },
  {
   "cell_type": "code",
   "execution_count": 150,
   "metadata": {},
   "outputs": [
    {
     "data": {
      "text/html": [
       "<div>\n",
       "<style scoped>\n",
       "    .dataframe tbody tr th:only-of-type {\n",
       "        vertical-align: middle;\n",
       "    }\n",
       "\n",
       "    .dataframe tbody tr th {\n",
       "        vertical-align: top;\n",
       "    }\n",
       "\n",
       "    .dataframe thead th {\n",
       "        text-align: right;\n",
       "    }\n",
       "</style>\n",
       "<table border=\"1\" class=\"dataframe\">\n",
       "  <thead>\n",
       "    <tr style=\"text-align: right;\">\n",
       "      <th></th>\n",
       "      <th>buynow_price</th>\n",
       "      <th>rodzaj_karty_graficznej</th>\n",
       "      <th>komunikacja</th>\n",
       "      <th>rozdzielczosc</th>\n",
       "      <th>liczba_rdzeni</th>\n",
       "      <th>wielkosc_ram</th>\n",
       "      <th>system_operacyjny</th>\n",
       "      <th>typ_dysku</th>\n",
       "      <th>sterowanie</th>\n",
       "      <th>multimedia</th>\n",
       "      <th>typ_ram</th>\n",
       "      <th>taktowanie_ghz</th>\n",
       "      <th>seria_procesora</th>\n",
       "      <th>stan</th>\n",
       "      <th>pojemnosc_dysku_gb</th>\n",
       "      <th>gwarancja</th>\n",
       "      <th>wielkosc_matrycy</th>\n",
       "    </tr>\n",
       "  </thead>\n",
       "  <tbody>\n",
       "    <tr>\n",
       "      <th>5422</th>\n",
       "      <td>5820.0</td>\n",
       "      <td>None</td>\n",
       "      <td>None</td>\n",
       "      <td>None</td>\n",
       "      <td>nie dotyczy</td>\n",
       "      <td>None</td>\n",
       "      <td>None</td>\n",
       "      <td>None</td>\n",
       "      <td>None</td>\n",
       "      <td>None</td>\n",
       "      <td>None</td>\n",
       "      <td>NaN</td>\n",
       "      <td>None</td>\n",
       "      <td>nowy</td>\n",
       "      <td>NaN</td>\n",
       "      <td>producenta</td>\n",
       "      <td>None</td>\n",
       "    </tr>\n",
       "    <tr>\n",
       "      <th>2052</th>\n",
       "      <td>2378.9</td>\n",
       "      <td>None</td>\n",
       "      <td>None</td>\n",
       "      <td>None</td>\n",
       "      <td>nie dotyczy</td>\n",
       "      <td>None</td>\n",
       "      <td>None</td>\n",
       "      <td>None</td>\n",
       "      <td>None</td>\n",
       "      <td>None</td>\n",
       "      <td>None</td>\n",
       "      <td>NaN</td>\n",
       "      <td>None</td>\n",
       "      <td>nowy</td>\n",
       "      <td>NaN</td>\n",
       "      <td>producenta</td>\n",
       "      <td>None</td>\n",
       "    </tr>\n",
       "    <tr>\n",
       "      <th>6261</th>\n",
       "      <td>6858.9</td>\n",
       "      <td>None</td>\n",
       "      <td>None</td>\n",
       "      <td>None</td>\n",
       "      <td>nie dotyczy</td>\n",
       "      <td>None</td>\n",
       "      <td>None</td>\n",
       "      <td>None</td>\n",
       "      <td>None</td>\n",
       "      <td>None</td>\n",
       "      <td>None</td>\n",
       "      <td>NaN</td>\n",
       "      <td>None</td>\n",
       "      <td>nowy</td>\n",
       "      <td>NaN</td>\n",
       "      <td>producenta</td>\n",
       "      <td>None</td>\n",
       "    </tr>\n",
       "    <tr>\n",
       "      <th>10911</th>\n",
       "      <td>2910.0</td>\n",
       "      <td>None</td>\n",
       "      <td>None</td>\n",
       "      <td>None</td>\n",
       "      <td>nie dotyczy</td>\n",
       "      <td>None</td>\n",
       "      <td>None</td>\n",
       "      <td>None</td>\n",
       "      <td>None</td>\n",
       "      <td>None</td>\n",
       "      <td>None</td>\n",
       "      <td>NaN</td>\n",
       "      <td>None</td>\n",
       "      <td>nowy</td>\n",
       "      <td>NaN</td>\n",
       "      <td>producenta</td>\n",
       "      <td>None</td>\n",
       "    </tr>\n",
       "    <tr>\n",
       "      <th>601</th>\n",
       "      <td>1398.9</td>\n",
       "      <td>None</td>\n",
       "      <td>None</td>\n",
       "      <td>None</td>\n",
       "      <td>nie dotyczy</td>\n",
       "      <td>None</td>\n",
       "      <td>None</td>\n",
       "      <td>None</td>\n",
       "      <td>None</td>\n",
       "      <td>None</td>\n",
       "      <td>None</td>\n",
       "      <td>NaN</td>\n",
       "      <td>None</td>\n",
       "      <td>nowy</td>\n",
       "      <td>NaN</td>\n",
       "      <td>producenta</td>\n",
       "      <td>None</td>\n",
       "    </tr>\n",
       "    <tr>\n",
       "      <th>...</th>\n",
       "      <td>...</td>\n",
       "      <td>...</td>\n",
       "      <td>...</td>\n",
       "      <td>...</td>\n",
       "      <td>...</td>\n",
       "      <td>...</td>\n",
       "      <td>...</td>\n",
       "      <td>...</td>\n",
       "      <td>...</td>\n",
       "      <td>...</td>\n",
       "      <td>...</td>\n",
       "      <td>...</td>\n",
       "      <td>...</td>\n",
       "      <td>...</td>\n",
       "      <td>...</td>\n",
       "      <td>...</td>\n",
       "      <td>...</td>\n",
       "    </tr>\n",
       "    <tr>\n",
       "      <th>2159</th>\n",
       "      <td>6450.0</td>\n",
       "      <td>None</td>\n",
       "      <td>None</td>\n",
       "      <td>None</td>\n",
       "      <td>nie dotyczy</td>\n",
       "      <td>None</td>\n",
       "      <td>None</td>\n",
       "      <td>None</td>\n",
       "      <td>None</td>\n",
       "      <td>None</td>\n",
       "      <td>None</td>\n",
       "      <td>NaN</td>\n",
       "      <td>None</td>\n",
       "      <td>nowy</td>\n",
       "      <td>NaN</td>\n",
       "      <td>producenta</td>\n",
       "      <td>None</td>\n",
       "    </tr>\n",
       "    <tr>\n",
       "      <th>596</th>\n",
       "      <td>6940.0</td>\n",
       "      <td>None</td>\n",
       "      <td>None</td>\n",
       "      <td>None</td>\n",
       "      <td>nie dotyczy</td>\n",
       "      <td>None</td>\n",
       "      <td>None</td>\n",
       "      <td>None</td>\n",
       "      <td>None</td>\n",
       "      <td>None</td>\n",
       "      <td>None</td>\n",
       "      <td>NaN</td>\n",
       "      <td>None</td>\n",
       "      <td>nowy</td>\n",
       "      <td>NaN</td>\n",
       "      <td>producenta</td>\n",
       "      <td>None</td>\n",
       "    </tr>\n",
       "    <tr>\n",
       "      <th>5233</th>\n",
       "      <td>9260.0</td>\n",
       "      <td>None</td>\n",
       "      <td>None</td>\n",
       "      <td>None</td>\n",
       "      <td>nie dotyczy</td>\n",
       "      <td>None</td>\n",
       "      <td>None</td>\n",
       "      <td>None</td>\n",
       "      <td>None</td>\n",
       "      <td>None</td>\n",
       "      <td>None</td>\n",
       "      <td>NaN</td>\n",
       "      <td>None</td>\n",
       "      <td>nowy</td>\n",
       "      <td>NaN</td>\n",
       "      <td>producenta</td>\n",
       "      <td>None</td>\n",
       "    </tr>\n",
       "    <tr>\n",
       "      <th>7941</th>\n",
       "      <td>5950.0</td>\n",
       "      <td>None</td>\n",
       "      <td>None</td>\n",
       "      <td>None</td>\n",
       "      <td>nie dotyczy</td>\n",
       "      <td>None</td>\n",
       "      <td>None</td>\n",
       "      <td>None</td>\n",
       "      <td>None</td>\n",
       "      <td>None</td>\n",
       "      <td>None</td>\n",
       "      <td>NaN</td>\n",
       "      <td>None</td>\n",
       "      <td>nowy</td>\n",
       "      <td>NaN</td>\n",
       "      <td>producenta</td>\n",
       "      <td>None</td>\n",
       "    </tr>\n",
       "    <tr>\n",
       "      <th>1894</th>\n",
       "      <td>4478.9</td>\n",
       "      <td>None</td>\n",
       "      <td>None</td>\n",
       "      <td>None</td>\n",
       "      <td>nie dotyczy</td>\n",
       "      <td>None</td>\n",
       "      <td>None</td>\n",
       "      <td>None</td>\n",
       "      <td>None</td>\n",
       "      <td>None</td>\n",
       "      <td>None</td>\n",
       "      <td>NaN</td>\n",
       "      <td>None</td>\n",
       "      <td>nowy</td>\n",
       "      <td>NaN</td>\n",
       "      <td>producenta</td>\n",
       "      <td>None</td>\n",
       "    </tr>\n",
       "  </tbody>\n",
       "</table>\n",
       "<p>87 rows × 17 columns</p>\n",
       "</div>"
      ],
      "text/plain": [
       "       buynow_price rodzaj_karty_graficznej komunikacja rozdzielczosc  \\\n",
       "5422         5820.0                    None        None          None   \n",
       "2052         2378.9                    None        None          None   \n",
       "6261         6858.9                    None        None          None   \n",
       "10911        2910.0                    None        None          None   \n",
       "601          1398.9                    None        None          None   \n",
       "...             ...                     ...         ...           ...   \n",
       "2159         6450.0                    None        None          None   \n",
       "596          6940.0                    None        None          None   \n",
       "5233         9260.0                    None        None          None   \n",
       "7941         5950.0                    None        None          None   \n",
       "1894         4478.9                    None        None          None   \n",
       "\n",
       "      liczba_rdzeni wielkosc_ram system_operacyjny typ_dysku sterowanie  \\\n",
       "5422    nie dotyczy         None              None      None       None   \n",
       "2052    nie dotyczy         None              None      None       None   \n",
       "6261    nie dotyczy         None              None      None       None   \n",
       "10911   nie dotyczy         None              None      None       None   \n",
       "601     nie dotyczy         None              None      None       None   \n",
       "...             ...          ...               ...       ...        ...   \n",
       "2159    nie dotyczy         None              None      None       None   \n",
       "596     nie dotyczy         None              None      None       None   \n",
       "5233    nie dotyczy         None              None      None       None   \n",
       "7941    nie dotyczy         None              None      None       None   \n",
       "1894    nie dotyczy         None              None      None       None   \n",
       "\n",
       "      multimedia typ_ram  taktowanie_ghz seria_procesora  stan  \\\n",
       "5422        None    None             NaN            None  nowy   \n",
       "2052        None    None             NaN            None  nowy   \n",
       "6261        None    None             NaN            None  nowy   \n",
       "10911       None    None             NaN            None  nowy   \n",
       "601         None    None             NaN            None  nowy   \n",
       "...          ...     ...             ...             ...   ...   \n",
       "2159        None    None             NaN            None  nowy   \n",
       "596         None    None             NaN            None  nowy   \n",
       "5233        None    None             NaN            None  nowy   \n",
       "7941        None    None             NaN            None  nowy   \n",
       "1894        None    None             NaN            None  nowy   \n",
       "\n",
       "       pojemnosc_dysku_gb   gwarancja wielkosc_matrycy  \n",
       "5422                  NaN  producenta             None  \n",
       "2052                  NaN  producenta             None  \n",
       "6261                  NaN  producenta             None  \n",
       "10911                 NaN  producenta             None  \n",
       "601                   NaN  producenta             None  \n",
       "...                   ...         ...              ...  \n",
       "2159                  NaN  producenta             None  \n",
       "596                   NaN  producenta             None  \n",
       "5233                  NaN  producenta             None  \n",
       "7941                  NaN  producenta             None  \n",
       "1894                  NaN  producenta             None  \n",
       "\n",
       "[87 rows x 17 columns]"
      ]
     },
     "execution_count": 150,
     "metadata": {},
     "output_type": "execute_result"
    }
   ],
   "source": [
    "dataset_col_ren[dataset_col_ren.liczba_rdzeni == \"nie dotyczy\"]"
   ]
  },
  {
   "cell_type": "code",
   "execution_count": 151,
   "metadata": {},
   "outputs": [],
   "source": [
    "dataset_no_nd = dataset_col_ren[dataset_col_ren.liczba_rdzeni != \"nie dotyczy\"].drop(\"stan\", axis = 1)\n"
   ]
  },
  {
   "cell_type": "markdown",
   "metadata": {},
   "source": [
    "## 2.2. Handle columns of array type\n",
    "komunikacja; system_operacyjny; sterowanie; multimedia"
   ]
  },
  {
   "cell_type": "markdown",
   "metadata": {},
   "source": [
    "### 2.2.1. Change array_type columns to string"
   ]
  },
  {
   "cell_type": "code",
   "execution_count": 152,
   "metadata": {},
   "outputs": [],
   "source": [
    "dataset_lts = dataset_no_nd \n",
    "dataset_lts['komunikacja'] = dataset_lts['komunikacja'].str.join(',')\n",
    "dataset_lts['system_operacyjny'] = dataset_lts['system_operacyjny'].str.join(',')\n",
    "dataset_lts['sterowanie'] = dataset_lts['sterowanie'].str.join(',')\n",
    "dataset_lts['multimedia'] = dataset_lts['multimedia'].str.join(',')\n"
   ]
  },
  {
   "cell_type": "markdown",
   "metadata": {},
   "source": [
    "### 2.2.2. Extract values from long strings"
   ]
  },
  {
   "cell_type": "code",
   "execution_count": 153,
   "metadata": {},
   "outputs": [],
   "source": [
    "#dataset_lts['komunikacja'].value_counts()"
   ]
  },
  {
   "cell_type": "code",
   "execution_count": 154,
   "metadata": {},
   "outputs": [],
   "source": [
    "dataset_lts_kom1 = dataset_lts\n",
    "komunikacja_list = [r'(wi-fi)', r'(bluetooth)', r'(widi)', r'(nfc)', r'(modem 3g)', r'(modem 4g)', r'(lan 10/100/1000 mbps)', r'(LAN 10/100 mbps)',r'(802.11 a/b/g/n/ac)',r'(wi-fi 802.11 a/b/g/n)',r'(wi-fi 802.11 a/b/g/n)']\n",
    "\n",
    "for i in komunikacja_list:\n",
    "    dataset_lts_kom1['komunikacja_'+i] = dataset_lts_kom1['komunikacja'].str.extract(i, expand=False)\n",
    "dataset_lts_kom1=dataset_lts_kom1.drop('komunikacja', axis = 1)\n",
    "#display(dataset_lts_kom1)\n"
   ]
  },
  {
   "cell_type": "code",
   "execution_count": 155,
   "metadata": {},
   "outputs": [],
   "source": [
    "#dataset_lts['sterowanie'].value_counts()"
   ]
  },
  {
   "cell_type": "code",
   "execution_count": 156,
   "metadata": {},
   "outputs": [],
   "source": [
    "dataset_lts_ster1 = dataset_lts_kom1\n",
    "sterowanie_list = [r'(klawiatura)', r'(numeryczna)', r'(touchpad)', r'(podświetlana)']\n",
    "\n",
    "for i in sterowanie_list:\n",
    "    dataset_lts_ster1['sterowanie_'+i] = dataset_lts_ster1['sterowanie'].str.extract(i, expand=False)\n",
    "dataset_lts_ster1 = dataset_lts_ster1.drop('sterowanie', axis = 1)\n",
    "#display(dataset_lts_ster1)\n"
   ]
  },
  {
   "cell_type": "code",
   "execution_count": 157,
   "metadata": {},
   "outputs": [],
   "source": [
    "#dataset_lts['system_operacyjny'].value_counts()\n"
   ]
  },
  {
   "cell_type": "code",
   "execution_count": 158,
   "metadata": {},
   "outputs": [],
   "source": [
    "dataset_lts_syst1 = dataset_lts_ster1\n",
    "system_list = [r'(windows 7)', r'(windows 8.1)', r'(windows 10)', r'(professional)', r'(brak)']\n",
    "\n",
    "for i in system_list:\n",
    "    dataset_lts_syst1['system_'+i] = dataset_lts_syst1['system_operacyjny'].str.extract(i, expand=False)\n",
    "dataset_lts_syst1 = dataset_lts_syst1.drop('system_operacyjny', axis = 1)\n",
    "#display(dataset_lts_syst1)"
   ]
  },
  {
   "cell_type": "code",
   "execution_count": 159,
   "metadata": {},
   "outputs": [],
   "source": [
    "#dataset_lts['multimedia'].value_counts()"
   ]
  },
  {
   "cell_type": "code",
   "execution_count": 160,
   "metadata": {},
   "outputs": [],
   "source": [
    "dataset_lts_mult1 = dataset_lts_syst1\n",
    "multimedia_list = [r'(czytnik)', r'(kamera)', r'(głośniki)', r'(mikrofon)']\n",
    "\n",
    "for i in multimedia_list:\n",
    "    dataset_lts_mult1['multimedia_'+i] = dataset_lts_mult1['multimedia'].str.extract(i, expand=False)\n",
    "dataset_lts_mult1 = dataset_lts_mult1.drop('multimedia', axis = 1)\n",
    "#display(dataset_lts_mult1)"
   ]
  },
  {
   "cell_type": "markdown",
   "metadata": {},
   "source": [
    "## 2.3. Adjust column types"
   ]
  },
  {
   "cell_type": "code",
   "execution_count": 161,
   "metadata": {},
   "outputs": [],
   "source": [
    "dataset_ct = dataset_lts_mult1\n",
    "#print(dataset_ct.dtypes)"
   ]
  },
  {
   "cell_type": "code",
   "execution_count": 162,
   "metadata": {},
   "outputs": [],
   "source": [
    "dataset_ct['wielkosc_ram_gb'] = dataset_ct['wielkosc_ram'].str.extract(r'(^\\d*)', expand=False)\n",
    "dataset_ct = dataset_ct.drop('wielkosc_ram', axis = 1)\n"
   ]
  },
  {
   "cell_type": "markdown",
   "metadata": {},
   "source": [
    "## 2.4 Add new column"
   ]
  },
  {
   "cell_type": "markdown",
   "metadata": {},
   "source": [
    "### 2.4.1. Rozdzielcznosc_na_cal "
   ]
  },
  {
   "cell_type": "code",
   "execution_count": 163,
   "metadata": {},
   "outputs": [],
   "source": [
    "import numpy as np\n",
    "dataset_ct['rozdzielczosc_1'] = dataset_ct['rozdzielczosc'].str.extract(r'(^\\d*)', expand=False).apply(pd.to_numeric, errors='coerce') \n",
    "dataset_ct['rozdzielczosc_2'] = dataset_ct['rozdzielczosc'].str.extract(r'(\\d*$)', expand=False).apply(pd.to_numeric, errors='coerce')\n",
    "dataset_ct['wielkosc_matrycy_num'] = dataset_ct['wielkosc_matrycy'].str.extract(r'(^\\d*)', expand=False).apply(pd.to_numeric, errors='coerce')\n",
    "dataset_ct['rozdzielcznosc_na_cal'] = dataset_ct.rozdzielczosc_1 * dataset_ct.rozdzielczosc_1 / dataset_ct.wielkosc_matrycy_num\n",
    "\n",
    "\n",
    "dataset_ct = dataset_ct.drop(['rozdzielczosc_1','rozdzielczosc_2', 'wielkosc_matrycy_num'], axis = 1)\n",
    "dataset_ct['rozdzielcznosc_na_cal_log2'] = np.log2(dataset_ct['rozdzielcznosc_na_cal'])\n",
    "\n",
    "#display(dataset_ct[['rozdzielczosc','wielkosc_matrycy', 'rozdzielcznosc_na_cal']].sort_values(['rozdzielcznosc_na_cal'], ascending=False))\n",
    "#display(dataset_ct)"
   ]
  },
  {
   "cell_type": "markdown",
   "metadata": {},
   "source": [
    "#### 2.4.1.1 Check what level of logarithm to apply for long-tail rozdzielczosc_na_cal"
   ]
  },
  {
   "cell_type": "code",
   "execution_count": 164,
   "metadata": {},
   "outputs": [
    {
     "data": {
      "text/plain": [
       "(array([1881.,  554.,  473., 3936.,  168.,    4.,   39.,    0.,   17.,\n",
       "         118.]),\n",
       " array([16.7440207 , 17.08095277, 17.41788485, 17.75481693, 18.09174901,\n",
       "        18.42868108, 18.76561316, 19.10254524, 19.43947732, 19.7764094 ,\n",
       "        20.11334147]),\n",
       " <a list of 10 Patch objects>)"
      ]
     },
     "execution_count": 164,
     "metadata": {},
     "output_type": "execute_result"
    },
    {
     "data": {
      "image/png": "[encoded data removed]",
      "text/plain": [
       "<Figure size 432x288 with 1 Axes>"
      ]
     },
     "metadata": {
      "needs_background": "light"
     },
     "output_type": "display_data"
    }
   ],
   "source": [
    "import numpy as np\n",
    "import matplotlib.pyplot as plt\n",
    "%matplotlib inline\n",
    "import warnings\n",
    "warnings.filterwarnings('ignore')\n",
    "dataset_ct['rozdzielcznosc_na_cal_log2'] = np.log2(dataset_ct['rozdzielcznosc_na_cal'])\n",
    "plt.hist(dataset_ct['rozdzielcznosc_na_cal_log2'], bins=None, range=None, density=False)"
   ]
  },
  {
   "cell_type": "code",
   "execution_count": 165,
   "metadata": {},
   "outputs": [
    {
     "data": {
      "text/plain": [
       "(array([1881.,  554.,  473., 3936.,  168.,    4.,   39.,    0.,   17.,\n",
       "         118.]),\n",
       " array([5.04045248, 5.14187914, 5.2433058 , 5.34473246, 5.44615912,\n",
       "        5.54758579, 5.64901245, 5.75043911, 5.85186577, 5.95329243,\n",
       "        6.0547191 ]),\n",
       " <a list of 10 Patch objects>)"
      ]
     },
     "execution_count": 165,
     "metadata": {},
     "output_type": "execute_result"
    },
    {
     "data": {
      "image/png": "[encoded data removed]",
      "text/plain": [
       "<Figure size 432x288 with 1 Axes>"
      ]
     },
     "metadata": {
      "needs_background": "light"
     },
     "output_type": "display_data"
    }
   ],
   "source": [
    "dataset_ct['rozdzielcznosc_na_cal_log10'] = np.log10(dataset_ct['rozdzielcznosc_na_cal'])\n",
    "plt.hist(dataset_ct['rozdzielcznosc_na_cal_log10'], bins=None, range=None, density=False)"
   ]
  },
  {
   "cell_type": "markdown",
   "metadata": {},
   "source": [
    "## 2.4.2. Add logarithms of 2 numerical values"
   ]
  },
  {
   "cell_type": "code",
   "execution_count": 166,
   "metadata": {},
   "outputs": [],
   "source": [
    "dataset_ct = dataset_ct.astype('str')\n",
    "\n",
    "dataset_ct[['liczba_rdzeni','wielkosc_ram_gb']] = \\\n",
    "dataset_ct[['liczba_rdzeni','wielkosc_ram_gb']].apply(pd.to_numeric, errors='coerce')\n",
    "\n",
    "\n",
    "dataset_ct['liczba_rdzeni_log2'] = np.log2(dataset_ct['liczba_rdzeni'])\n",
    "dataset_ct['wielkosc_ram_gb_log2'] = np.log2(dataset_ct['wielkosc_ram_gb'])"
   ]
  },
  {
   "cell_type": "code",
   "execution_count": 167,
   "metadata": {},
   "outputs": [],
   "source": [
    "\n",
    "dataset_ct_col_ren = dataset_ct.astype('str')\n",
    "\n",
    "dataset_ct_col_ren[['buynow_price','liczba_rdzeni', 'taktowanie_ghz', 'pojemnosc_dysku_gb', 'wielkosc_ram_gb', 'rozdzielcznosc_na_cal', 'rozdzielcznosc_na_cal_log2', 'liczba_rdzeni_log2', 'wielkosc_ram_gb_log2']] = \\\n",
    "dataset_ct_col_ren[['buynow_price','liczba_rdzeni', 'taktowanie_ghz', 'pojemnosc_dysku_gb', 'wielkosc_ram_gb', 'rozdzielcznosc_na_cal', 'rozdzielcznosc_na_cal_log2', 'liczba_rdzeni_log2', 'wielkosc_ram_gb_log2']].apply(pd.to_numeric, errors='coerce')\n"
   ]
  },
  {
   "cell_type": "code",
   "execution_count": 168,
   "metadata": {},
   "outputs": [
    {
     "data": {
      "text/plain": [
       "(array([1.270e+02, 1.728e+03, 3.263e+03, 7.990e+02, 1.128e+03, 3.480e+02,\n",
       "        0.000e+00, 5.000e+00, 0.000e+00, 1.000e+00]),\n",
       " array([1. , 1.7, 2.4, 3.1, 3.8, 4.5, 5.2, 5.9, 6.6, 7.3, 8. ]),\n",
       " <a list of 10 Patch objects>)"
      ]
     },
     "execution_count": 168,
     "metadata": {},
     "output_type": "execute_result"
    },
    {
     "data": {
      "image/png": "[encoded data removed]",
      "text/plain": [
       "<Figure size 432x288 with 1 Axes>"
      ]
     },
     "metadata": {
      "needs_background": "light"
     },
     "output_type": "display_data"
    }
   ],
   "source": [
    "plt.hist(dataset_ct['wielkosc_ram_gb_log2'], bins=None, range=None, density=False)"
   ]
  },
  {
   "cell_type": "code",
   "execution_count": 169,
   "metadata": {},
   "outputs": [
    {
     "data": {
      "text/plain": [
       "(array([7.000e+00, 0.000e+00, 0.000e+00, 4.763e+03, 0.000e+00, 8.300e+01,\n",
       "        2.907e+03, 0.000e+00, 1.000e+00, 5.000e+00]),\n",
       " array([0. , 0.3, 0.6, 0.9, 1.2, 1.5, 1.8, 2.1, 2.4, 2.7, 3. ]),\n",
       " <a list of 10 Patch objects>)"
      ]
     },
     "execution_count": 169,
     "metadata": {},
     "output_type": "execute_result"
    },
    {
     "data": {
      "image/png": "[encoded data removed]",
      "text/plain": [
       "<Figure size 432x288 with 1 Axes>"
      ]
     },
     "metadata": {
      "needs_background": "light"
     },
     "output_type": "display_data"
    }
   ],
   "source": [
    "plt.hist(dataset_ct['liczba_rdzeni_log2'], bins=None, range=None, density=False)"
   ]
  },
  {
   "cell_type": "code",
   "execution_count": 170,
   "metadata": {},
   "outputs": [
    {
     "data": {
      "text/html": [
       "<div>\n",
       "<style scoped>\n",
       "    .dataframe tbody tr th:only-of-type {\n",
       "        vertical-align: middle;\n",
       "    }\n",
       "\n",
       "    .dataframe tbody tr th {\n",
       "        vertical-align: top;\n",
       "    }\n",
       "\n",
       "    .dataframe thead th {\n",
       "        text-align: right;\n",
       "    }\n",
       "</style>\n",
       "<table border=\"1\" class=\"dataframe\">\n",
       "  <thead>\n",
       "    <tr style=\"text-align: right;\">\n",
       "      <th></th>\n",
       "      <th>buynow_price</th>\n",
       "      <th>rodzaj_karty_graficznej</th>\n",
       "      <th>rozdzielczosc</th>\n",
       "      <th>liczba_rdzeni</th>\n",
       "      <th>typ_dysku</th>\n",
       "      <th>typ_ram</th>\n",
       "      <th>taktowanie_ghz</th>\n",
       "      <th>seria_procesora</th>\n",
       "      <th>pojemnosc_dysku_gb</th>\n",
       "      <th>gwarancja</th>\n",
       "      <th>...</th>\n",
       "      <th>multimedia_(czytnik)</th>\n",
       "      <th>multimedia_(kamera)</th>\n",
       "      <th>multimedia_(głośniki)</th>\n",
       "      <th>multimedia_(mikrofon)</th>\n",
       "      <th>wielkosc_ram_gb</th>\n",
       "      <th>rozdzielcznosc_na_cal</th>\n",
       "      <th>rozdzielcznosc_na_cal_log2</th>\n",
       "      <th>rozdzielcznosc_na_cal_log10</th>\n",
       "      <th>liczba_rdzeni_log2</th>\n",
       "      <th>wielkosc_ram_gb_log2</th>\n",
       "    </tr>\n",
       "  </thead>\n",
       "  <tbody>\n",
       "    <tr>\n",
       "      <th>70</th>\n",
       "      <td>1599.0</td>\n",
       "      <td>grafika zintegrowana</td>\n",
       "      <td>1366 x 768</td>\n",
       "      <td>2</td>\n",
       "      <td>hdd</td>\n",
       "      <td>ddr3</td>\n",
       "      <td>1.9</td>\n",
       "      <td>intel core i3</td>\n",
       "      <td>500.0</td>\n",
       "      <td>sprzedawcy</td>\n",
       "      <td>...</td>\n",
       "      <td>czytnik</td>\n",
       "      <td>kamera</td>\n",
       "      <td>głośniki</td>\n",
       "      <td>mikrofon</td>\n",
       "      <td>8.0</td>\n",
       "      <td>143535.076923</td>\n",
       "      <td>17.131044</td>\n",
       "      <td>5.156958046384191</td>\n",
       "      <td>1.0</td>\n",
       "      <td>3.000000</td>\n",
       "    </tr>\n",
       "    <tr>\n",
       "      <th>1489</th>\n",
       "      <td>2999.0</td>\n",
       "      <td>grafika dedykowana</td>\n",
       "      <td>1920 x 1080</td>\n",
       "      <td>2</td>\n",
       "      <td>None</td>\n",
       "      <td>ddr4</td>\n",
       "      <td>2.0</td>\n",
       "      <td>intel core i3</td>\n",
       "      <td>480.0</td>\n",
       "      <td>producenta</td>\n",
       "      <td>...</td>\n",
       "      <td>czytnik</td>\n",
       "      <td>kamera</td>\n",
       "      <td>głośniki</td>\n",
       "      <td>mikrofon</td>\n",
       "      <td>12.0</td>\n",
       "      <td>245760.000000</td>\n",
       "      <td>17.906891</td>\n",
       "      <td>5.390511198351418</td>\n",
       "      <td>1.0</td>\n",
       "      <td>3.584963</td>\n",
       "    </tr>\n",
       "    <tr>\n",
       "      <th>407</th>\n",
       "      <td>2999.0</td>\n",
       "      <td>grafika zintegrowana</td>\n",
       "      <td>1366 x 768</td>\n",
       "      <td>2</td>\n",
       "      <td>ssd</td>\n",
       "      <td>ddr3l</td>\n",
       "      <td>2.1</td>\n",
       "      <td>intel pentium dual-core</td>\n",
       "      <td>480.0</td>\n",
       "      <td>producenta</td>\n",
       "      <td>...</td>\n",
       "      <td>czytnik</td>\n",
       "      <td>kamera</td>\n",
       "      <td>głośniki</td>\n",
       "      <td>mikrofon</td>\n",
       "      <td>16.0</td>\n",
       "      <td>124397.066667</td>\n",
       "      <td>16.924593</td>\n",
       "      <td>5.094810139635347</td>\n",
       "      <td>1.0</td>\n",
       "      <td>4.000000</td>\n",
       "    </tr>\n",
       "    <tr>\n",
       "      <th>1359</th>\n",
       "      <td>2849.0</td>\n",
       "      <td>grafika zintegrowana</td>\n",
       "      <td>1920 x 1080</td>\n",
       "      <td>2</td>\n",
       "      <td>ssd</td>\n",
       "      <td>ddr4</td>\n",
       "      <td>2.0</td>\n",
       "      <td>intel core i3</td>\n",
       "      <td>480.0</td>\n",
       "      <td>producenta</td>\n",
       "      <td>...</td>\n",
       "      <td>czytnik</td>\n",
       "      <td>kamera</td>\n",
       "      <td>głośniki</td>\n",
       "      <td>mikrofon</td>\n",
       "      <td>8.0</td>\n",
       "      <td>245760.000000</td>\n",
       "      <td>17.906891</td>\n",
       "      <td>5.390511198351418</td>\n",
       "      <td>1.0</td>\n",
       "      <td>3.000000</td>\n",
       "    </tr>\n",
       "    <tr>\n",
       "      <th>10567</th>\n",
       "      <td>2319.0</td>\n",
       "      <td>None</td>\n",
       "      <td>None</td>\n",
       "      <td>2</td>\n",
       "      <td>None</td>\n",
       "      <td>None</td>\n",
       "      <td>NaN</td>\n",
       "      <td>None</td>\n",
       "      <td>NaN</td>\n",
       "      <td>producenta</td>\n",
       "      <td>...</td>\n",
       "      <td>None</td>\n",
       "      <td>None</td>\n",
       "      <td>None</td>\n",
       "      <td>None</td>\n",
       "      <td>NaN</td>\n",
       "      <td>NaN</td>\n",
       "      <td>NaN</td>\n",
       "      <td>nan</td>\n",
       "      <td>1.0</td>\n",
       "      <td>NaN</td>\n",
       "    </tr>\n",
       "    <tr>\n",
       "      <th>...</th>\n",
       "      <td>...</td>\n",
       "      <td>...</td>\n",
       "      <td>...</td>\n",
       "      <td>...</td>\n",
       "      <td>...</td>\n",
       "      <td>...</td>\n",
       "      <td>...</td>\n",
       "      <td>...</td>\n",
       "      <td>...</td>\n",
       "      <td>...</td>\n",
       "      <td>...</td>\n",
       "      <td>...</td>\n",
       "      <td>...</td>\n",
       "      <td>...</td>\n",
       "      <td>...</td>\n",
       "      <td>...</td>\n",
       "      <td>...</td>\n",
       "      <td>...</td>\n",
       "      <td>...</td>\n",
       "      <td>...</td>\n",
       "      <td>...</td>\n",
       "    </tr>\n",
       "    <tr>\n",
       "      <th>10541</th>\n",
       "      <td>1329.0</td>\n",
       "      <td>grafika zintegrowana</td>\n",
       "      <td>1366 x 768</td>\n",
       "      <td>2</td>\n",
       "      <td>ssd</td>\n",
       "      <td>ddr3</td>\n",
       "      <td>1.6</td>\n",
       "      <td>intel celeron dual-core</td>\n",
       "      <td>128.0</td>\n",
       "      <td>sprzedawcy</td>\n",
       "      <td>...</td>\n",
       "      <td>czytnik</td>\n",
       "      <td>kamera</td>\n",
       "      <td>głośniki</td>\n",
       "      <td>mikrofon</td>\n",
       "      <td>4.0</td>\n",
       "      <td>124397.066667</td>\n",
       "      <td>16.924593</td>\n",
       "      <td>5.094810139635347</td>\n",
       "      <td>1.0</td>\n",
       "      <td>2.000000</td>\n",
       "    </tr>\n",
       "    <tr>\n",
       "      <th>8281</th>\n",
       "      <td>979.0</td>\n",
       "      <td>None</td>\n",
       "      <td>None</td>\n",
       "      <td>2</td>\n",
       "      <td>None</td>\n",
       "      <td>None</td>\n",
       "      <td>NaN</td>\n",
       "      <td>None</td>\n",
       "      <td>32.0</td>\n",
       "      <td>producenta</td>\n",
       "      <td>...</td>\n",
       "      <td>None</td>\n",
       "      <td>None</td>\n",
       "      <td>None</td>\n",
       "      <td>None</td>\n",
       "      <td>NaN</td>\n",
       "      <td>NaN</td>\n",
       "      <td>NaN</td>\n",
       "      <td>nan</td>\n",
       "      <td>1.0</td>\n",
       "      <td>NaN</td>\n",
       "    </tr>\n",
       "    <tr>\n",
       "      <th>8053</th>\n",
       "      <td>2565.0</td>\n",
       "      <td>grafika dedykowana</td>\n",
       "      <td>1920 x 1080</td>\n",
       "      <td>2</td>\n",
       "      <td>ssd</td>\n",
       "      <td>ddr4</td>\n",
       "      <td>2.3</td>\n",
       "      <td>intel core i5</td>\n",
       "      <td>128.0</td>\n",
       "      <td>sprzedawcy</td>\n",
       "      <td>...</td>\n",
       "      <td>czytnik</td>\n",
       "      <td>kamera</td>\n",
       "      <td>głośniki</td>\n",
       "      <td>mikrofon</td>\n",
       "      <td>4.0</td>\n",
       "      <td>245760.000000</td>\n",
       "      <td>17.906891</td>\n",
       "      <td>5.390511198351418</td>\n",
       "      <td>1.0</td>\n",
       "      <td>2.000000</td>\n",
       "    </tr>\n",
       "    <tr>\n",
       "      <th>8727</th>\n",
       "      <td>4079.0</td>\n",
       "      <td>grafika dedykowana</td>\n",
       "      <td>1920 x 1080</td>\n",
       "      <td>4</td>\n",
       "      <td>ssd + hdd</td>\n",
       "      <td>ddr4</td>\n",
       "      <td>2.5</td>\n",
       "      <td>intel core i5</td>\n",
       "      <td>1128.0</td>\n",
       "      <td>producenta</td>\n",
       "      <td>...</td>\n",
       "      <td>czytnik</td>\n",
       "      <td>kamera</td>\n",
       "      <td>głośniki</td>\n",
       "      <td>mikrofon</td>\n",
       "      <td>16.0</td>\n",
       "      <td>245760.000000</td>\n",
       "      <td>17.906891</td>\n",
       "      <td>5.390511198351418</td>\n",
       "      <td>2.0</td>\n",
       "      <td>4.000000</td>\n",
       "    </tr>\n",
       "    <tr>\n",
       "      <th>5978</th>\n",
       "      <td>2949.0</td>\n",
       "      <td>grafika dedykowana</td>\n",
       "      <td>1920 x 1080</td>\n",
       "      <td>2</td>\n",
       "      <td>ssd</td>\n",
       "      <td>ddr4</td>\n",
       "      <td>2.4</td>\n",
       "      <td>intel core i3</td>\n",
       "      <td>128.0</td>\n",
       "      <td>producenta</td>\n",
       "      <td>...</td>\n",
       "      <td>czytnik</td>\n",
       "      <td>kamera</td>\n",
       "      <td>nan</td>\n",
       "      <td>mikrofon</td>\n",
       "      <td>8.0</td>\n",
       "      <td>245760.000000</td>\n",
       "      <td>17.906891</td>\n",
       "      <td>5.390511198351418</td>\n",
       "      <td>1.0</td>\n",
       "      <td>3.000000</td>\n",
       "    </tr>\n",
       "  </tbody>\n",
       "</table>\n",
       "<p>7766 rows × 40 columns</p>\n",
       "</div>"
      ],
      "text/plain": [
       "       buynow_price rodzaj_karty_graficznej rozdzielczosc  liczba_rdzeni  \\\n",
       "70           1599.0    grafika zintegrowana    1366 x 768              2   \n",
       "1489         2999.0      grafika dedykowana   1920 x 1080              2   \n",
       "407          2999.0    grafika zintegrowana    1366 x 768              2   \n",
       "1359         2849.0    grafika zintegrowana   1920 x 1080              2   \n",
       "10567        2319.0                    None          None              2   \n",
       "...             ...                     ...           ...            ...   \n",
       "10541        1329.0    grafika zintegrowana    1366 x 768              2   \n",
       "8281          979.0                    None          None              2   \n",
       "8053         2565.0      grafika dedykowana   1920 x 1080              2   \n",
       "8727         4079.0      grafika dedykowana   1920 x 1080              4   \n",
       "5978         2949.0      grafika dedykowana   1920 x 1080              2   \n",
       "\n",
       "       typ_dysku typ_ram  taktowanie_ghz          seria_procesora  \\\n",
       "70           hdd    ddr3             1.9            intel core i3   \n",
       "1489        None    ddr4             2.0            intel core i3   \n",
       "407          ssd   ddr3l             2.1  intel pentium dual-core   \n",
       "1359         ssd    ddr4             2.0            intel core i3   \n",
       "10567       None    None             NaN                     None   \n",
       "...          ...     ...             ...                      ...   \n",
       "10541        ssd    ddr3             1.6  intel celeron dual-core   \n",
       "8281        None    None             NaN                     None   \n",
       "8053         ssd    ddr4             2.3            intel core i5   \n",
       "8727   ssd + hdd    ddr4             2.5            intel core i5   \n",
       "5978         ssd    ddr4             2.4            intel core i3   \n",
       "\n",
       "       pojemnosc_dysku_gb   gwarancja  ... multimedia_(czytnik)  \\\n",
       "70                  500.0  sprzedawcy  ...              czytnik   \n",
       "1489                480.0  producenta  ...              czytnik   \n",
       "407                 480.0  producenta  ...              czytnik   \n",
       "1359                480.0  producenta  ...              czytnik   \n",
       "10567                 NaN  producenta  ...                 None   \n",
       "...                   ...         ...  ...                  ...   \n",
       "10541               128.0  sprzedawcy  ...              czytnik   \n",
       "8281                 32.0  producenta  ...                 None   \n",
       "8053                128.0  sprzedawcy  ...              czytnik   \n",
       "8727               1128.0  producenta  ...              czytnik   \n",
       "5978                128.0  producenta  ...              czytnik   \n",
       "\n",
       "      multimedia_(kamera) multimedia_(głośniki) multimedia_(mikrofon)  \\\n",
       "70                 kamera              głośniki              mikrofon   \n",
       "1489               kamera              głośniki              mikrofon   \n",
       "407                kamera              głośniki              mikrofon   \n",
       "1359               kamera              głośniki              mikrofon   \n",
       "10567                None                  None                  None   \n",
       "...                   ...                   ...                   ...   \n",
       "10541              kamera              głośniki              mikrofon   \n",
       "8281                 None                  None                  None   \n",
       "8053               kamera              głośniki              mikrofon   \n",
       "8727               kamera              głośniki              mikrofon   \n",
       "5978               kamera                   nan              mikrofon   \n",
       "\n",
       "      wielkosc_ram_gb rozdzielcznosc_na_cal rozdzielcznosc_na_cal_log2  \\\n",
       "70                8.0         143535.076923                  17.131044   \n",
       "1489             12.0         245760.000000                  17.906891   \n",
       "407              16.0         124397.066667                  16.924593   \n",
       "1359              8.0         245760.000000                  17.906891   \n",
       "10567             NaN                   NaN                        NaN   \n",
       "...               ...                   ...                        ...   \n",
       "10541             4.0         124397.066667                  16.924593   \n",
       "8281              NaN                   NaN                        NaN   \n",
       "8053              4.0         245760.000000                  17.906891   \n",
       "8727             16.0         245760.000000                  17.906891   \n",
       "5978              8.0         245760.000000                  17.906891   \n",
       "\n",
       "      rozdzielcznosc_na_cal_log10 liczba_rdzeni_log2 wielkosc_ram_gb_log2  \n",
       "70              5.156958046384191                1.0             3.000000  \n",
       "1489            5.390511198351418                1.0             3.584963  \n",
       "407             5.094810139635347                1.0             4.000000  \n",
       "1359            5.390511198351418                1.0             3.000000  \n",
       "10567                         nan                1.0                  NaN  \n",
       "...                           ...                ...                  ...  \n",
       "10541           5.094810139635347                1.0             2.000000  \n",
       "8281                          nan                1.0                  NaN  \n",
       "8053            5.390511198351418                1.0             2.000000  \n",
       "8727            5.390511198351418                2.0             4.000000  \n",
       "5978            5.390511198351418                1.0             3.000000  \n",
       "\n",
       "[7766 rows x 40 columns]"
      ]
     },
     "execution_count": 170,
     "metadata": {},
     "output_type": "execute_result"
    }
   ],
   "source": [
    "dataset_ct_col_ren"
   ]
  },
  {
   "cell_type": "markdown",
   "metadata": {},
   "source": [
    "# 3. Preprocess data with functions <a class=\"anchor\" id=\"chapter3\"></a>"
   ]
  },
  {
   "cell_type": "code",
   "execution_count": 171,
   "metadata": {},
   "outputs": [],
   "source": [
    "#remove spaces from column names and, column \"stan', and 'nie dotyczy' values from liczba_rdzeni\n",
    "def fun1(df):\n",
    "\n",
    "    df1a = df.rename(columns={\"rodzaj karty graficznej\": \"rodzaj_karty_graficznej\", \n",
    "                                          \"rozdzielczość (piksele)\": \"rozdzielczosc\", \n",
    "                                          \"liczba rdzeni procesora\":\"liczba_rdzeni\", \n",
    "                                          \"wielkość pamięci ram\":\"wielkosc_ram\", \n",
    "                                          \"system operacyjny\":\"system_operacyjny\", \n",
    "                                          \"typ dysku twardego\":\"typ_dysku\", \n",
    "                                          \"typ pamięci ram\":\"typ_ram\", \n",
    "                                          \"taktowanie bazowe procesora (ghz)\":\"taktowanie_ghz\", \n",
    "                                          \"seria procesora\":\"seria_procesora\", \n",
    "                                          \"pojemność dysku (gb)\":\"pojemnosc_dysku_gb\", \n",
    "                                          \"wielkość matrycy \":\"wielkosc_matrycy\"\n",
    "                                         })\n",
    "    df1 = df1a[df1a.liczba_rdzeni != \"nie dotyczy\"].drop(\"stan\", axis = 1)\n",
    "    return df1   "
   ]
  },
  {
   "cell_type": "code",
   "execution_count": 172,
   "metadata": {},
   "outputs": [],
   "source": [
    "#array - type column to separate columns\n",
    "\n",
    "def fun2(dfa):\n",
    "    dfa['komunikacja'] = dfa['komunikacja'].str.join(',')\n",
    "    dfa['system_operacyjny'] = dfa['system_operacyjny'].str.join(',')\n",
    "    dfa['sterowanie'] = dfa['sterowanie'].str.join(',')\n",
    "    dfa['multimedia'] = dfa['multimedia'].str.join(',')\n",
    "\n",
    "\n",
    "    dfa1 = dfa\n",
    "    komunikacja_lista = [r'(wi-fi)', r'(bluetooth)', r'(widi)', r'(nfc)', r'(modem 3g)', r'(modem 4g)', r'(lan 10/100/1000 mbps)', r'(LAN 10/100 mbps)',r'(802.11 a/b/g/n/ac)',r'(wi-fi 802.11 a/b/g/n)',r'(wi-fi 802.11 a/b/g/n)']\n",
    "    for i in komunikacja_lista:\n",
    "        dfa1['komunikacja_'+i] = dfa1['komunikacja'].str.extract(i, expand=False)\n",
    "    dfa1=dfa1.drop('komunikacja', axis = 1)\n",
    "\n",
    "\n",
    "\n",
    "    dfa2 = dfa1\n",
    "    sterowanie_lista = [r'(klawiatura)', r'(numeryczna)', r'(touchpad)', r'(podświetlana)']\n",
    "    for i in sterowanie_lista:\n",
    "        dfa2['sterowanie_'+i] = dfa2['sterowanie'].str.extract(i, expand=False)\n",
    "    dfa2 = dfa2.drop('sterowanie', axis = 1)\n",
    "\n",
    "\n",
    "\n",
    "    dfa3 = dfa2\n",
    "    system_lista = [r'(windows 7)', r'(windows 8.1)', r'(windows 10)', r'(professional)', r'(brak)']\n",
    "    for i in system_lista:\n",
    "        dfa3['system_'+i] = dfa3['system_operacyjny'].str.extract(i, expand=False)\n",
    "    dfa3 = dfa3.drop('system_operacyjny', axis = 1)\n",
    "\n",
    "\n",
    "\n",
    "    dfa4 = dfa3\n",
    "    multimedia_lista = [r'(czytnik)', r'(kamera)', r'(głośniki)', r'(mikrofon)']\n",
    "    for i in multimedia_lista:\n",
    "        dfa4['multimedia_'+i] = dfa4['multimedia'].str.extract(i, expand=False)\n",
    "    dfa4 = dfa4.drop('multimedia', axis = 1)\n",
    "\n",
    "    return dfa4"
   ]
  },
  {
   "cell_type": "code",
   "execution_count": 173,
   "metadata": {},
   "outputs": [],
   "source": [
    "# wielkosc_ram to numeric\n",
    "def fun3(dfb):\n",
    "    dfb1 = dfb\n",
    "    dfb1['wielkosc_ram_gb'] = dfb1['wielkosc_ram'].str.extract(r'(^\\d*)', expand=False)\n",
    "    dfb1 = dfb.drop('wielkosc_ram', axis = 1)\n",
    "    return dfb1"
   ]
  },
  {
   "cell_type": "code",
   "execution_count": 174,
   "metadata": {},
   "outputs": [],
   "source": [
    "#rozdzielczość na cal\n",
    "def fun4(dfc):\n",
    "    dfc1 = dfc\n",
    "    dfc1['rozdzielczosc_1'] = dfc1['rozdzielczosc'].str.extract(r'(^\\d*)', expand=False).apply(pd.to_numeric, errors='coerce') \n",
    "    dfc1['rozdzielczosc_2'] = dfc1['rozdzielczosc'].str.extract(r'(\\d*$)', expand=False).apply(pd.to_numeric, errors='coerce')\n",
    "    dfc1['wielkosc_matrycy_num'] = dfc1['wielkosc_matrycy'].str.extract(r'(^\\d*)', expand=False).apply(pd.to_numeric, errors='coerce')\n",
    "    dfc1['rozdzielcznosc_na_cal'] = dfc1.rozdzielczosc_1 * dfc1.rozdzielczosc_1 / dfc1.wielkosc_matrycy_num\n",
    "\n",
    "\n",
    "    dfc1 = dfc1.drop(['rozdzielczosc_1','rozdzielczosc_2', 'wielkosc_matrycy_num'], axis = 1)\n",
    "    dfc1['rozdzielcznosc_na_cal_log2'] = np.log2(dfc1['rozdzielcznosc_na_cal'])\n",
    "    return dfc1"
   ]
  },
  {
   "cell_type": "code",
   "execution_count": 175,
   "metadata": {},
   "outputs": [],
   "source": [
    "#logarithms of liczba rdzeni i wielkosc ram\n",
    "def fun5(dfd):\n",
    "    dfd1 = dfd\n",
    "    dfd1 = dfd1.astype('str')\n",
    "\n",
    "    dfd1[['liczba_rdzeni','wielkosc_ram_gb']] = \\\n",
    "    dfd1[['liczba_rdzeni','wielkosc_ram_gb']].apply(pd.to_numeric, errors='coerce')\n",
    "\n",
    "\n",
    "    dfd1['liczba_rdzeni_log2'] = np.log2(dfd1['liczba_rdzeni'])\n",
    "    dfd1['wielkosc_ram_gb_log2'] = np.log2(dfd1['wielkosc_ram_gb'])\n",
    "    return dfd1"
   ]
  },
  {
   "cell_type": "code",
   "execution_count": 176,
   "metadata": {},
   "outputs": [],
   "source": [
    "#change data type\n",
    "def fun6(dfe):\n",
    "    dfe1 = dfe\n",
    "\n",
    "    dfe1 = dfe1.astype('str')\n",
    "    \n",
    "    dfe1[['buynow_price','liczba_rdzeni', 'taktowanie_ghz', 'pojemnosc_dysku_gb', 'wielkosc_ram_gb', 'rozdzielcznosc_na_cal', 'rozdzielcznosc_na_cal_log2', 'liczba_rdzeni_log2', 'wielkosc_ram_gb_log2']] = \\\n",
    "    dfe1[['buynow_price','liczba_rdzeni', 'taktowanie_ghz', 'pojemnosc_dysku_gb', 'wielkosc_ram_gb', 'rozdzielcznosc_na_cal', 'rozdzielcznosc_na_cal_log2', 'liczba_rdzeni_log2', 'wielkosc_ram_gb_log2']].apply(pd.to_numeric, errors='coerce')\n",
    "    return dfe1\n"
   ]
  },
  {
   "cell_type": "code",
   "execution_count": 177,
   "metadata": {},
   "outputs": [],
   "source": [
    "#combine all steps into one function\n",
    "def fun_data_prep(dfz):\n",
    "    dfz1 = fun1(dfz)\n",
    "    dfz2 = fun2(dfz1)\n",
    "    dfz3 = fun3(dfz2)\n",
    "    dfz4 = fun4(dfz3)\n",
    "    dfz5 = fun5(dfz4)\n",
    "    dfz6 = fun6(dfz5)\n",
    "    return dfz6"
   ]
  },
  {
   "cell_type": "markdown",
   "metadata": {},
   "source": [
    "# 4. Train model <a class=\"anchor\" id=\"chapter4\"></a>"
   ]
  },
  {
   "cell_type": "markdown",
   "metadata": {},
   "source": [
    "## 4.1. Data preparation for model training (pipeline)"
   ]
  },
  {
   "cell_type": "code",
   "execution_count": 178,
   "metadata": {},
   "outputs": [],
   "source": [
    "dataset_cleaned = fun_data_prep(dataset)"
   ]
  },
  {
   "cell_type": "markdown",
   "metadata": {},
   "source": [
    "Catergorical values: encode, Numerical values: remove nan, standarize"
   ]
  },
  {
   "cell_type": "code",
   "execution_count": 179,
   "metadata": {},
   "outputs": [],
   "source": [
    "from sklearn.pipeline import Pipeline\n",
    "from sklearn.impute import SimpleImputer\n",
    "from sklearn.preprocessing import StandardScaler, OneHotEncoder\n",
    "numeric_transformer = Pipeline(steps=[\n",
    "    ('imputer', SimpleImputer(strategy='median')),\n",
    "    ('scaler', StandardScaler())])\n",
    "categorical_transformer = Pipeline(steps=[\n",
    "    ('imputer', SimpleImputer(strategy='constant', fill_value='missing')),\n",
    "    ('onehot', OneHotEncoder(handle_unknown='ignore'))])"
   ]
  },
  {
   "cell_type": "code",
   "execution_count": 180,
   "metadata": {},
   "outputs": [],
   "source": [
    "numeric_features = dataset_cleaned.select_dtypes(include=['int64', 'float64']).drop(['buynow_price'], axis=1).columns\n",
    "\n",
    "categorical_features = dataset_cleaned.select_dtypes(include=['object']).columns\n",
    "\n",
    "from sklearn.compose import ColumnTransformer\n",
    "preprocessor = ColumnTransformer(\n",
    "    transformers=[\n",
    "        ('num', numeric_transformer, numeric_features),\n",
    "        ('cat', categorical_transformer, categorical_features)])\n"
   ]
  },
  {
   "cell_type": "markdown",
   "metadata": {},
   "source": [
    "## 4.2. Train and test on dataset"
   ]
  },
  {
   "cell_type": "code",
   "execution_count": 181,
   "metadata": {},
   "outputs": [],
   "source": [
    "from sklearn.model_selection import train_test_split\n",
    "\n",
    "X = dataset_cleaned.drop('buynow_price', axis=1)\n",
    "y = dataset_cleaned['buynow_price']\n",
    "from sklearn.model_selection import train_test_split\n",
    "X_train, X_test, y_train, y_test = train_test_split(X, y, test_size=0.2, random_state = 42)\n"
   ]
  },
  {
   "cell_type": "code",
   "execution_count": 182,
   "metadata": {},
   "outputs": [],
   "source": [
    "dataset_prepared = preprocessor.fit_transform(dataset_cleaned)\n",
    "\n",
    "X_train_prep = preprocessor.fit_transform(X_train)\n",
    "X_test_prep = preprocessor.fit_transform(X_test)\n"
   ]
  },
  {
   "cell_type": "markdown",
   "metadata": {},
   "source": [
    "### 4.2.1. Linear Regression"
   ]
  },
  {
   "cell_type": "code",
   "execution_count": 183,
   "metadata": {},
   "outputs": [
    {
     "data": {
      "text/plain": [
       "Pipeline(memory=None,\n",
       "         steps=[('preprocessor',\n",
       "                 ColumnTransformer(n_jobs=None, remainder='drop',\n",
       "                                   sparse_threshold=0.3,\n",
       "                                   transformer_weights=None,\n",
       "                                   transformers=[('num',\n",
       "                                                  Pipeline(memory=None,\n",
       "                                                           steps=[('imputer',\n",
       "                                                                   SimpleImputer(add_indicator=False,\n",
       "                                                                                 copy=True,\n",
       "                                                                                 fill_value=None,\n",
       "                                                                                 missing_values=nan,\n",
       "                                                                                 strategy='median',\n",
       "                                                                                 verbose=0)),\n",
       "                                                                  ('scaler',\n",
       "                                                                   StandardScaler(copy=True,\n",
       "                                                                                  with_mean...\n",
       "       'sterowanie_(touchpad)', 'sterowanie_(podświetlana)',\n",
       "       'system_(windows 7)', 'system_(windows 8.1)', 'system_(windows 10)',\n",
       "       'system_(professional)', 'system_(brak)', 'multimedia_(czytnik)',\n",
       "       'multimedia_(kamera)', 'multimedia_(głośniki)',\n",
       "       'multimedia_(mikrofon)'],\n",
       "      dtype='object'))],\n",
       "                                   verbose=False)),\n",
       "                ('classifier',\n",
       "                 LinearRegression(copy_X=True, fit_intercept=True, n_jobs=None,\n",
       "                                  normalize=False))],\n",
       "         verbose=False)"
      ]
     },
     "execution_count": 183,
     "metadata": {},
     "output_type": "execute_result"
    }
   ],
   "source": [
    "from sklearn.linear_model import LinearRegression\n",
    "lin_reg = Pipeline(steps=[('preprocessor', preprocessor), ('classifier', LinearRegression())])\n",
    "\n",
    "lin_reg.fit(X_train, y_train)"
   ]
  },
  {
   "cell_type": "code",
   "execution_count": 184,
   "metadata": {},
   "outputs": [
    {
     "data": {
      "text/plain": [
       "822.1018144336684"
      ]
     },
     "execution_count": 184,
     "metadata": {},
     "output_type": "execute_result"
    }
   ],
   "source": [
    "from sklearn.metrics import mean_squared_error\n",
    "y_pred_tt_lg = lin_reg.predict(X_test)\n",
    "tt_lg_mse = mean_squared_error(y_test, y_pred_tt_lg)\n",
    "tt_lg_rsme = np.sqrt(tt_lg_mse)\n",
    "tt_lg_rsme"
   ]
  },
  {
   "cell_type": "code",
   "execution_count": 185,
   "metadata": {},
   "outputs": [
    {
     "data": {
      "text/plain": [
       "<matplotlib.collections.PathCollection at 0x1fc478b1148>"
      ]
     },
     "execution_count": 185,
     "metadata": {},
     "output_type": "execute_result"
    },
    {
     "data": {
      "image/png": "[encoded data removed]",
      "text/plain": [
       "<Figure size 432x288 with 1 Axes>"
      ]
     },
     "metadata": {
      "needs_background": "light"
     },
     "output_type": "display_data"
    }
   ],
   "source": [
    "import numpy as np\n",
    "import matplotlib.pyplot as plt\n",
    "%matplotlib inline\n",
    "#dataset['buynow_price'].value_counts().plot(kind='bar')\n",
    "\n",
    "plt.scatter(y_test, y_pred_tt_lg, s=None, c=None, marker=None)"
   ]
  },
  {
   "cell_type": "markdown",
   "metadata": {},
   "source": [
    "### 4.2.2. Random Forest Classifier"
   ]
  },
  {
   "cell_type": "code",
   "execution_count": 186,
   "metadata": {},
   "outputs": [],
   "source": [
    "from sklearn.ensemble import RandomForestRegressor\n",
    "\n",
    "rf = Pipeline(steps=[('preprocessor', preprocessor), ('classifier', RandomForestRegressor())])"
   ]
  },
  {
   "cell_type": "code",
   "execution_count": 187,
   "metadata": {},
   "outputs": [
    {
     "data": {
      "text/plain": [
       "Pipeline(memory=None,\n",
       "         steps=[('preprocessor',\n",
       "                 ColumnTransformer(n_jobs=None, remainder='drop',\n",
       "                                   sparse_threshold=0.3,\n",
       "                                   transformer_weights=None,\n",
       "                                   transformers=[('num',\n",
       "                                                  Pipeline(memory=None,\n",
       "                                                           steps=[('imputer',\n",
       "                                                                   SimpleImputer(add_indicator=False,\n",
       "                                                                                 copy=True,\n",
       "                                                                                 fill_value=None,\n",
       "                                                                                 missing_values=nan,\n",
       "                                                                                 strategy='median',\n",
       "                                                                                 verbose=0)),\n",
       "                                                                  ('scaler',\n",
       "                                                                   StandardScaler(copy=True,\n",
       "                                                                                  with_mean...\n",
       "                 RandomForestRegressor(bootstrap=True, ccp_alpha=0.0,\n",
       "                                       criterion='mse', max_depth=None,\n",
       "                                       max_features='auto', max_leaf_nodes=None,\n",
       "                                       max_samples=None,\n",
       "                                       min_impurity_decrease=0.0,\n",
       "                                       min_impurity_split=None,\n",
       "                                       min_samples_leaf=1, min_samples_split=2,\n",
       "                                       min_weight_fraction_leaf=0.0,\n",
       "                                       n_estimators=100, n_jobs=None,\n",
       "                                       oob_score=False, random_state=None,\n",
       "                                       verbose=0, warm_start=False))],\n",
       "         verbose=False)"
      ]
     },
     "execution_count": 187,
     "metadata": {},
     "output_type": "execute_result"
    }
   ],
   "source": [
    "rf.fit(X_train, y_train)"
   ]
  },
  {
   "cell_type": "code",
   "execution_count": 188,
   "metadata": {},
   "outputs": [],
   "source": [
    "y_pred = rf.predict(X_test)"
   ]
  },
  {
   "cell_type": "code",
   "execution_count": 189,
   "metadata": {},
   "outputs": [
    {
     "data": {
      "text/plain": [
       "509.62475378514756"
      ]
     },
     "execution_count": 189,
     "metadata": {},
     "output_type": "execute_result"
    }
   ],
   "source": [
    "\n",
    "rf_mse = mean_squared_error(y_test, y_pred)\n",
    "rf_rmse = np.sqrt(rf_mse)\n",
    "rf_rmse"
   ]
  },
  {
   "cell_type": "code",
   "execution_count": 190,
   "metadata": {},
   "outputs": [
    {
     "data": {
      "text/plain": [
       "<matplotlib.collections.PathCollection at 0x1fc37cdc5c8>"
      ]
     },
     "execution_count": 190,
     "metadata": {},
     "output_type": "execute_result"
    },
    {
     "data": {
      "image/png": "[encoded data removed]",
      "text/plain": [
       "<Figure size 432x288 with 1 Axes>"
      ]
     },
     "metadata": {
      "needs_background": "light"
     },
     "output_type": "display_data"
    }
   ],
   "source": [
    "import numpy as np\n",
    "import matplotlib.pyplot as plt\n",
    "%matplotlib inline\n",
    "#dataset['buynow_price'].value_counts().plot(kind='bar')\n",
    "\n",
    "plt.scatter(y_test, y_pred, s=None, c=None, marker=None)\n"
   ]
  },
  {
   "cell_type": "markdown",
   "metadata": {},
   "source": [
    "## 4.3. Cross-validation\n",
    "note: 5 minutes to update cross_val Random Forest Regressor"
   ]
  },
  {
   "cell_type": "markdown",
   "metadata": {},
   "source": [
    "#### 4.3.1. Linear regression with cross-validation"
   ]
  },
  {
   "cell_type": "code",
   "execution_count": 191,
   "metadata": {},
   "outputs": [
    {
     "name": "stdout",
     "output_type": "stream",
     "text": [
      "Outputs: [789.79755557 930.79995222 696.94746751 730.76935916 756.20306287\n",
      " 784.46904241 658.65322367 855.98007341 775.02827223 896.59534739]\n",
      "Average: 787.5243356445393\n",
      "Std deviation 81.42193311142849\n"
     ]
    }
   ],
   "source": [
    "from sklearn.model_selection import cross_val_score\n",
    "scores_lin_reg = cross_val_score(LinearRegression(), X_train_prep, y_train, scoring = 'neg_mean_squared_error', cv = 10)\n",
    "lin_reg_rmse_scores = np.sqrt(-scores_lin_reg)\n",
    "\n",
    "def display_scores(sc):\n",
    "    print(\"Outputs:\", sc)\n",
    "    print(\"Average:\", sc.mean())\n",
    "    print(\"Std deviation\", sc.std())\n",
    "\n",
    "display_scores(lin_reg_rmse_scores)"
   ]
  },
  {
   "cell_type": "markdown",
   "metadata": {},
   "source": [
    "#### 4.3.2. RandomForestRegressor with cross-validation"
   ]
  },
  {
   "cell_type": "code",
   "execution_count": null,
   "metadata": {},
   "outputs": [],
   "source": [
    "\n",
    "cv_rf_scores = cross_val_score(RandomForestRegressor(), X_train_prep, y_train, scoring = 'neg_mean_squared_error', cv = 10)\n",
    "cv_rf_rmse_scores = np.sqrt(-cv_rf_scores)\n",
    "cv_rf_rmse_scores"
   ]
  },
  {
   "cell_type": "code",
   "execution_count": 116,
   "metadata": {},
   "outputs": [
    {
     "name": "stdout",
     "output_type": "stream",
     "text": [
      "Wyniki: [474.54371404 684.03610326 593.63076184 560.25603607 551.03720187\n",
      " 519.05536866 437.08649507 551.51640912 588.27195466 651.06478591]\n",
      "Średnia: 561.0498830492832\n",
      "Odchylenie standardowe 70.59489862808685\n"
     ]
    }
   ],
   "source": [
    "display_scores(cv_rf_rmse_scores)"
   ]
  },
  {
   "cell_type": "markdown",
   "metadata": {},
   "source": [
    "## 4.4. Improve model"
   ]
  },
  {
   "cell_type": "markdown",
   "metadata": {},
   "source": [
    "### 4.4.1. Remove irrelevatnt features"
   ]
  },
  {
   "cell_type": "code",
   "execution_count": 117,
   "metadata": {
    "scrolled": true
   },
   "outputs": [
    {
     "name": "stdout",
     "output_type": "stream",
     "text": [
      "Variable: sterowanie_(touchpad) Importance: 0.07\n",
      "Variable: rozdzielczosc        Importance: 0.06\n",
      "Variable: komunikacja_(widi)   Importance: 0.05\n",
      "Variable: liczba_rdzeni        Importance: 0.03\n",
      "Variable: typ_dysku            Importance: 0.03\n",
      "Variable: pojemnosc_dysku_gb   Importance: 0.03\n",
      "Variable: typ_ram              Importance: 0.02\n",
      "Variable: taktowanie_ghz       Importance: 0.02\n",
      "Variable: rodzaj_karty_graficznej Importance: 0.01\n",
      "Variable: seria_procesora      Importance: 0.01\n",
      "Variable: wielkosc_matrycy     Importance: 0.01\n",
      "Variable: komunikacja_(wi-fi)  Importance: 0.01\n",
      "Variable: komunikacja_(802.11 a/b/g/n/ac) Importance: 0.01\n",
      "Variable: system_(professional) Importance: 0.01\n",
      "Variable: multimedia_(czytnik) Importance: 0.01\n",
      "Variable: gwarancja            Importance: 0.0\n",
      "Variable: komunikacja_(bluetooth) Importance: 0.0\n",
      "Variable: komunikacja_(nfc)    Importance: 0.0\n",
      "Variable: komunikacja_(modem 3g) Importance: 0.0\n",
      "Variable: komunikacja_(modem 4g) Importance: 0.0\n",
      "Variable: komunikacja_(lan 10/100/1000 mbps) Importance: 0.0\n",
      "Variable: komunikacja_(LAN 10/100 mbps) Importance: 0.0\n",
      "Variable: komunikacja_(wi-fi 802.11 a/b/g/n) Importance: 0.0\n",
      "Variable: sterowanie_(klawiatura) Importance: 0.0\n",
      "Variable: sterowanie_(numeryczna) Importance: 0.0\n",
      "Variable: sterowanie_(podświetlana) Importance: 0.0\n",
      "Variable: system_(windows 7)   Importance: 0.0\n",
      "Variable: system_(windows 8.1) Importance: 0.0\n",
      "Variable: system_(windows 10)  Importance: 0.0\n",
      "Variable: system_(brak)        Importance: 0.0\n",
      "Variable: multimedia_(kamera)  Importance: 0.0\n",
      "Variable: multimedia_(głośniki) Importance: 0.0\n",
      "Variable: multimedia_(mikrofon) Importance: 0.0\n",
      "Variable: wielkosc_ram_gb      Importance: 0.0\n",
      "Variable: rozdzielcznosc_na_cal Importance: 0.0\n",
      "Variable: rozdzielcznosc_na_cal_log2 Importance: 0.0\n",
      "Variable: liczba_rdzeni_log2   Importance: 0.0\n",
      "Variable: wielkosc_ram_gb_log2 Importance: 0.0\n"
     ]
    }
   ],
   "source": [
    "importances = list(rf.steps[1][1].feature_importances_)\n",
    "feature_list = list(X.columns)\n",
    "\n",
    "feature_importances = [(feature, round(importance, 2)) for feature, importance in zip(feature_list, importances)]\n",
    "\n",
    "feature_importances = sorted(feature_importances, key = lambda x: x[1], reverse = True)\n",
    "\n",
    "[print('Variable: {:20} Importance: {}'.format(*pair)) for pair in feature_importances];"
   ]
  },
  {
   "cell_type": "code",
   "execution_count": 118,
   "metadata": {},
   "outputs": [],
   "source": [
    "important_columns = ['sterowanie_(touchpad)',\n",
    "               'rozdzielczosc',\n",
    "              'komunikacja_(widi)',\n",
    "              'liczba_rdzeni',\n",
    "              'typ_dysku',\n",
    "              'pojemnosc_dysku_gb',\n",
    "              'typ_ram',\n",
    "              'taktowanie_ghz',\n",
    "              'rodzaj_karty_graficznej',\n",
    "              'seria_procesora',\n",
    "              'gwarancja',\n",
    "              'wielkosc_matrycy',\n",
    "              'komunikacja_(802.11 a/b/g/n/ac)',\n",
    "              'system_(windows 10)',\n",
    "              'multimedia_(czytnik)',\n",
    "              'komunikacja_(nfc)', \n",
    "               ]"
   ]
  },
  {
   "cell_type": "code",
   "execution_count": 119,
   "metadata": {},
   "outputs": [],
   "source": [
    "X_important = X.loc[:, important_columns]\n",
    "X_train_important = X_train.loc[:, important_columns]\n",
    "X_test_important = X_test.loc[:, important_columns]\n",
    "\n"
   ]
  },
  {
   "cell_type": "code",
   "execution_count": 120,
   "metadata": {},
   "outputs": [],
   "source": [
    "#Pipieline adjusted to work with important columns only\n",
    "#.drop(['buynow_price'] no longer needed (as we refer to X)\n",
    "numeric_features1 = X_important.select_dtypes(include=['int64', 'float64']).columns\n",
    "\n",
    "categorical_features1 = X_important.select_dtypes(include=['object']).columns\n",
    "\n",
    "from sklearn.compose import ColumnTransformer\n",
    "preprocessor1 = ColumnTransformer(\n",
    "    transformers=[\n",
    "        ('num', numeric_transformer, numeric_features1),\n",
    "        ('cat', categorical_transformer, categorical_features1)])"
   ]
  },
  {
   "cell_type": "code",
   "execution_count": 121,
   "metadata": {},
   "outputs": [],
   "source": [
    "rf_most_important = Pipeline(steps=[('preprocessor', preprocessor1), ('classifier', RandomForestRegressor())])"
   ]
  },
  {
   "cell_type": "code",
   "execution_count": 122,
   "metadata": {},
   "outputs": [],
   "source": [
    "rf_most_important.fit(X_train_important, y_train)\n",
    "y_pred_most_important = rf_most_important.predict(X_test_important)"
   ]
  },
  {
   "cell_type": "code",
   "execution_count": 123,
   "metadata": {},
   "outputs": [
    {
     "data": {
      "text/plain": [
       "515.9424578726572"
      ]
     },
     "execution_count": 123,
     "metadata": {},
     "output_type": "execute_result"
    }
   ],
   "source": [
    "rfmi_mse = mean_squared_error(y_test, y_pred_most_important)\n",
    "rfmi_rmse = np.sqrt(rf_mse)\n",
    "rfmi_rmse"
   ]
  },
  {
   "cell_type": "code",
   "execution_count": 124,
   "metadata": {},
   "outputs": [
    {
     "data": {
      "text/plain": [
       "<matplotlib.collections.PathCollection at 0x1fc3a97bec8>"
      ]
     },
     "execution_count": 124,
     "metadata": {},
     "output_type": "execute_result"
    },
    {
     "data": {
      "image/png": "[encoded data removed]",
      "text/plain": [
       "<Figure size 432x288 with 1 Axes>"
      ]
     },
     "metadata": {
      "needs_background": "light"
     },
     "output_type": "display_data"
    }
   ],
   "source": [
    "plt.scatter(y_test, y_pred, s=None, c=None, marker=None)"
   ]
  },
  {
   "cell_type": "markdown",
   "metadata": {},
   "source": [
    "Cross validation"
   ]
  },
  {
   "cell_type": "code",
   "execution_count": 125,
   "metadata": {},
   "outputs": [
    {
     "data": {
      "text/plain": [
       "array([624.18030321, 840.9446653 , 695.79784016, 664.35443965,\n",
       "       653.05675993, 604.83105453, 601.80893729, 647.99091354,\n",
       "       715.96499332, 818.80766048])"
      ]
     },
     "execution_count": 125,
     "metadata": {},
     "output_type": "execute_result"
    }
   ],
   "source": [
    "X_train_important_prep = preprocessor1.fit_transform(X_train_important)\n",
    "\n",
    "cv_rfmi_scores = cross_val_score(RandomForestRegressor(), X_train_important_prep, y_train, scoring = 'neg_mean_squared_error', cv = 10)\n",
    "cv_rfmi_rmse_scores = np.sqrt(-cv_rfmi_scores)\n",
    "cv_rfmi_rmse_scores"
   ]
  },
  {
   "cell_type": "code",
   "execution_count": 126,
   "metadata": {},
   "outputs": [
    {
     "name": "stdout",
     "output_type": "stream",
     "text": [
      "Wyniki: [624.18030321 840.9446653  695.79784016 664.35443965 653.05675993\n",
      " 604.83105453 601.80893729 647.99091354 715.96499332 818.80766048]\n",
      "Średnia: 686.7737567413045\n",
      "Odchylenie standardowe 79.45459152855491\n"
     ]
    }
   ],
   "source": [
    "display_scores(cv_rfmi_rmse_scores)"
   ]
  },
  {
   "cell_type": "code",
   "execution_count": 127,
   "metadata": {},
   "outputs": [
    {
     "name": "stdout",
     "output_type": "stream",
     "text": [
      "Variable: komunikacja_(widi)   Importance: 0.26\n",
      "Variable: sterowanie_(touchpad) Importance: 0.08\n",
      "Variable: rozdzielczosc        Importance: 0.06\n",
      "Variable: taktowanie_ghz       Importance: 0.04\n",
      "Variable: system_(windows 10)  Importance: 0.02\n",
      "Variable: seria_procesora      Importance: 0.01\n",
      "Variable: wielkosc_matrycy     Importance: 0.01\n",
      "Variable: liczba_rdzeni        Importance: 0.0\n",
      "Variable: typ_dysku            Importance: 0.0\n",
      "Variable: pojemnosc_dysku_gb   Importance: 0.0\n",
      "Variable: typ_ram              Importance: 0.0\n",
      "Variable: rodzaj_karty_graficznej Importance: 0.0\n",
      "Variable: gwarancja            Importance: 0.0\n",
      "Variable: komunikacja_(802.11 a/b/g/n/ac) Importance: 0.0\n",
      "Variable: multimedia_(czytnik) Importance: 0.0\n",
      "Variable: komunikacja_(nfc)    Importance: 0.0\n"
     ]
    }
   ],
   "source": [
    "importances1 = list(rf_most_important.steps[1][1].feature_importances_)\n",
    "feature_list1 = list(X_important.columns)\n",
    "\n",
    "feature_importances1 = [(feature1, round(importance1, 2)) for feature1, importance1 in zip(feature_list1, importances1)]\n",
    "\n",
    "feature_importances1 = sorted(feature_importances1, key = lambda x: x[1], reverse = True)\n",
    "\n",
    "[print('Variable: {:20} Importance: {}'.format(*pair)) for pair in feature_importances1];"
   ]
  },
  {
   "cell_type": "markdown",
   "metadata": {},
   "source": [
    "## 4.5. Apply hyperparameters"
   ]
  },
  {
   "cell_type": "code",
   "execution_count": 128,
   "metadata": {},
   "outputs": [
    {
     "name": "stdout",
     "output_type": "stream",
     "text": [
      "Parameters currently in use:\n",
      "\n",
      "{'bootstrap': True,\n",
      " 'ccp_alpha': 0.0,\n",
      " 'criterion': 'mse',\n",
      " 'max_depth': None,\n",
      " 'max_features': 'auto',\n",
      " 'max_leaf_nodes': None,\n",
      " 'max_samples': None,\n",
      " 'min_impurity_decrease': 0.0,\n",
      " 'min_impurity_split': None,\n",
      " 'min_samples_leaf': 1,\n",
      " 'min_samples_split': 2,\n",
      " 'min_weight_fraction_leaf': 0.0,\n",
      " 'n_estimators': 100,\n",
      " 'n_jobs': None,\n",
      " 'oob_score': False,\n",
      " 'random_state': 42,\n",
      " 'verbose': 0,\n",
      " 'warm_start': False}\n"
     ]
    }
   ],
   "source": [
    "from sklearn.ensemble import RandomForestRegressor\n",
    "rf = RandomForestRegressor(random_state = 42)\n",
    "from pprint import pprint\n",
    "# Look at parameters used by our current forest\n",
    "print('Parameters currently in use:\\n')\n",
    "pprint(rf.get_params())"
   ]
  },
  {
   "cell_type": "code",
   "execution_count": 129,
   "metadata": {},
   "outputs": [
    {
     "name": "stdout",
     "output_type": "stream",
     "text": [
      "{'bootstrap': [True, False],\n",
      " 'max_depth': [10, 20, 30, 40, 50, 60, 70, 80, 90, 100, 110, 120, None],\n",
      " 'max_features': ['auto', 'sqrt'],\n",
      " 'min_samples_leaf': [1, 2, 4],\n",
      " 'min_samples_split': [2, 5, 10],\n",
      " 'n_estimators': [3, 10, 30, 300, 500, 1000, 1500]}\n"
     ]
    }
   ],
   "source": [
    "from sklearn.model_selection import RandomizedSearchCV\n",
    "# Number of trees \n",
    "n_estimators = [3, 10, 30, 300, 500, 1000, 1500]\n",
    "# Number of features to consider at every split\n",
    "max_features = ['auto', 'sqrt']\n",
    "# Max number of levels in tree\n",
    "max_depth = [10, 20, 30, 40, 50, 60, 70, 80, 90, 100, 110, 120]\n",
    "max_depth.append(None)\n",
    "# Min number of samples required to split a node\n",
    "min_samples_split = [2, 5, 10]\n",
    "# Min number of samples required at each leaf node\n",
    "min_samples_leaf = [1, 2, 4]\n",
    "# Method of selecting samples for training each tree\n",
    "bootstrap = [True, False]\n",
    "# Create the random grid\n",
    "random_grid = {'n_estimators': n_estimators,\n",
    "               'max_features': max_features,\n",
    "               'max_depth': max_depth,\n",
    "               'min_samples_split': min_samples_split,\n",
    "               'min_samples_leaf': min_samples_leaf,\n",
    "               'bootstrap': bootstrap}\n",
    "pprint(random_grid)"
   ]
  },
  {
   "cell_type": "code",
   "execution_count": 130,
   "metadata": {},
   "outputs": [
    {
     "name": "stdout",
     "output_type": "stream",
     "text": [
      "Fitting 3 folds for each of 100 candidates, totalling 300 fits\n"
     ]
    },
    {
     "name": "stderr",
     "output_type": "stream",
     "text": [
      "[Parallel(n_jobs=-1)]: Using backend LokyBackend with 4 concurrent workers.\n",
      "[Parallel(n_jobs=-1)]: Done  33 tasks      | elapsed: 19.1min\n",
      "[Parallel(n_jobs=-1)]: Done 154 tasks      | elapsed: 78.1min\n",
      "[Parallel(n_jobs=-1)]: Done 300 out of 300 | elapsed: 136.3min finished\n"
     ]
    },
    {
     "data": {
      "text/plain": [
       "RandomizedSearchCV(cv=3, error_score=nan,\n",
       "                   estimator=RandomForestRegressor(bootstrap=True,\n",
       "                                                   ccp_alpha=0.0,\n",
       "                                                   criterion='mse',\n",
       "                                                   max_depth=None,\n",
       "                                                   max_features='auto',\n",
       "                                                   max_leaf_nodes=None,\n",
       "                                                   max_samples=None,\n",
       "                                                   min_impurity_decrease=0.0,\n",
       "                                                   min_impurity_split=None,\n",
       "                                                   min_samples_leaf=1,\n",
       "                                                   min_samples_split=2,\n",
       "                                                   min_weight_fraction_leaf=0.0,\n",
       "                                                   n_estimators=100,\n",
       "                                                   n_jobs=None, oob_score=Fals...\n",
       "                   iid='deprecated', n_iter=100, n_jobs=-1,\n",
       "                   param_distributions={'bootstrap': [True, False],\n",
       "                                        'max_depth': [10, 20, 30, 40, 50, 60,\n",
       "                                                      70, 80, 90, 100, 110, 120,\n",
       "                                                      None],\n",
       "                                        'max_features': ['auto', 'sqrt'],\n",
       "                                        'min_samples_leaf': [1, 2, 4],\n",
       "                                        'min_samples_split': [2, 5, 10],\n",
       "                                        'n_estimators': [3, 10, 30, 300, 500,\n",
       "                                                         1000, 1500]},\n",
       "                   pre_dispatch='2*n_jobs', random_state=42, refit=True,\n",
       "                   return_train_score=False, scoring=None, verbose=2)"
      ]
     },
     "execution_count": 130,
     "metadata": {},
     "output_type": "execute_result"
    }
   ],
   "source": [
    "\n",
    "# create the base model to tune\n",
    "rf = RandomForestRegressor()\n",
    "# Random search of parameters\n",
    "rf_random = RandomizedSearchCV(estimator = rf, param_distributions = random_grid, n_iter = 100, cv = 3, verbose=2, random_state=42, n_jobs = -1)\n",
    "# Fit the random search model\n",
    "rf_random.fit(X_train_prep, y_train)"
   ]
  },
  {
   "cell_type": "code",
   "execution_count": 131,
   "metadata": {},
   "outputs": [],
   "source": [
    "best_random = rf_random.best_estimator_"
   ]
  },
  {
   "cell_type": "code",
   "execution_count": null,
   "metadata": {},
   "outputs": [],
   "source": [
    "\n",
    "#random_accuracy = evaluate(best_random, X_train_prep, y_train)\n",
    "\n",
    "X_test_prep\n",
    "predictions = rf_random.predict(X_test_prep)\n",
    "rf_random_mse = mean_squared_error(y_test, predictions)\n",
    "rf_random_rmse = np.sqrt(rf_random_mse)\n",
    "rf_random_rmse"
   ]
  },
  {
   "cell_type": "markdown",
   "metadata": {},
   "source": [
    "# Conclusion\n",
    "To improve model there have been following steps applied:\n",
    "\n",
    "1) Data engeenering: add new column: rozdzielczosc_na_cal (liczba pikseli na cal ekranu), adding logarithmic values\n",
    "\n",
    "2) Testing different models\n",
    "\n",
    "3) Testing columns reduction\n",
    "\n",
    "The best model according to cross validation is <b>Random Forest Regression</b> without columns reduction (RMSE average:566 for 10 folds, std_dev:74)"
   ]
  },
  {
   "cell_type": "markdown",
   "metadata": {},
   "source": [
    "# 5. Apply selected model on hidden data <a class=\"anchor\" id=\"chapter5\"></a>"
   ]
  },
  {
   "cell_type": "code",
   "execution_count": null,
   "metadata": {},
   "outputs": [],
   "source": [
    "import pandas as pd\n",
    "h_dataset = pd.read_json(\"MyPythonScripts\\\\Project_1\\\\hidden-Xs.json\")\n",
    "h_dataset.columns"
   ]
  },
  {
   "cell_type": "code",
   "execution_count": null,
   "metadata": {},
   "outputs": [],
   "source": [
    "h_dataset"
   ]
  },
  {
   "cell_type": "markdown",
   "metadata": {},
   "source": [
    "## 5.1. Transform data preparation process into functions"
   ]
  },
  {
   "cell_type": "code",
   "execution_count": null,
   "metadata": {},
   "outputs": [],
   "source": [
    "#change data type, not include Y value ('buynow_price')\n",
    "def fun99(dfe):\n",
    "    dfe1 = dfe\n",
    "\n",
    "    dfe1 = dfe1.astype('str')\n",
    "    \n",
    "    #'buynow_price' removed from list below, because in new 'Hidden data' it's unavailable\n",
    "    dfe1[['liczba_rdzeni', 'taktowanie_ghz', 'pojemnosc_dysku_gb', 'wielkosc_ram_gb', 'rozdzielcznosc_na_cal', 'rozdzielcznosc_na_cal_log2', 'liczba_rdzeni_log2', 'wielkosc_ram_gb_log2']] = \\\n",
    "    dfe1[['liczba_rdzeni', 'taktowanie_ghz', 'pojemnosc_dysku_gb', 'wielkosc_ram_gb', 'rozdzielcznosc_na_cal', 'rozdzielcznosc_na_cal_log2', 'liczba_rdzeni_log2', 'wielkosc_ram_gb_log2']].apply(pd.to_numeric, errors='coerce')\n",
    "    return dfe1\n"
   ]
  },
  {
   "cell_type": "code",
   "execution_count": null,
   "metadata": {},
   "outputs": [],
   "source": [
    "#combine all steps into one function\n",
    "def fun_data_prep_test(dfy):\n",
    "    dfy1 = fun1(dfy)\n",
    "    dfy2 = fun2(dfy1)\n",
    "    dfy3 = fun3(dfy2)\n",
    "    dfy4 = fun4(dfy3)\n",
    "    dfy5 = fun5(dfy4)\n",
    "    dfz6 = fun99(dfy5)\n",
    "    return dfz6"
   ]
  },
  {
   "cell_type": "markdown",
   "metadata": {},
   "source": [
    "## 5.2. Apply selected model"
   ]
  },
  {
   "cell_type": "code",
   "execution_count": null,
   "metadata": {},
   "outputs": [],
   "source": [
    "h_dataset_prep = fun_data_prep_test(h_dataset)\n",
    "h_dataset_prep.columns"
   ]
  },
  {
   "cell_type": "code",
   "execution_count": null,
   "metadata": {},
   "outputs": [],
   "source": [
    "y_output = rf.predict(h_dataset_prep)"
   ]
  },
  {
   "cell_type": "code",
   "execution_count": null,
   "metadata": {},
   "outputs": [],
   "source": [
    "y_output"
   ]
  },
  {
   "cell_type": "markdown",
   "metadata": {},
   "source": [
    "## 5.3. Save to json file"
   ]
  },
  {
   "cell_type": "code",
   "execution_count": null,
   "metadata": {},
   "outputs": [],
   "source": [
    "import codecs, json\n",
    "\n",
    "list_output = y_output.tolist()\n",
    "json_str = json.dumps(list_output)"
   ]
  },
  {
   "cell_type": "code",
   "execution_count": null,
   "metadata": {},
   "outputs": [],
   "source": [
    "import codecs, json\n",
    "\n",
    "\n",
    "l_output = y_output.tolist() \n",
    "\n",
    "with open('data.json', 'w', encoding='utf-8') as f:\n",
    "    json.dump(l_output, f, ensure_ascii=False, separators=(',', ':'), sort_keys=True, indent=4)"
   ]
  },
  {
   "cell_type": "code",
   "execution_count": null,
   "metadata": {},
   "outputs": [],
   "source": [
    "yy = pd.read_json(\"data.json\")\n",
    "display(yy)\n"
   ]
  }
 ],
 "metadata": {
  "kernelspec": {
   "display_name": "Python 3",
   "language": "python",
   "name": "python3"
  },
  "language_info": {
   "codemirror_mode": {
    "name": "ipython",
    "version": 3
   },
   "file_extension": ".py",
   "mimetype": "text/x-python",
   "name": "python",
   "nbconvert_exporter": "python",
   "pygments_lexer": "ipython3",
   "version": "3.7.6"
  }
 },
 "nbformat": 4,
 "nbformat_minor": 4
}
